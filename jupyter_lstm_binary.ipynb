{
 "cells": [
  {
   "cell_type": "code",
   "execution_count": 44,
   "metadata": {},
   "outputs": [],
   "source": [
    "import os\n",
    "from shutil import rmtree\n",
    "import math\n",
    "import random\n",
    "from termcolor import colored\n",
    "import pandas_datareader as web\n",
    "import numpy as np\n",
    "import pandas as pd\n",
    "from sklearn.preprocessing import MinMaxScaler\n",
    "import joblib\n",
    "import tensorflow as tf\n",
    "from keras.models import Sequential\n",
    "from keras.layers import Dense, LSTM, Dropout\n",
    "from keras.models import load_model\n",
    "from keras.callbacks import EarlyStopping, ModelCheckpoint\n",
    "import matplotlib.pyplot as plt\n",
    "from prepare_data import get_data\n",
    "from sklearn.model_selection import train_test_split\n",
    "from constant import CANDLES_HISTORY\n",
    "from add_indicators import get_column_indicators"
   ]
  },
  {
   "cell_type": "code",
   "execution_count": 45,
   "metadata": {},
   "outputs": [],
   "source": [
    "if os.path.exists(\"resources/model\"):\n",
    "    rmtree(\"resources/model\")\n",
    "if os.path.exists(\"resources/parameters\"):\n",
    "    rmtree(\"resources/parameters\")\n",
    "if os.path.exists(\"logs/fit\"):\n",
    "    rmtree(\"logs/fit\")"
   ]
  },
  {
   "cell_type": "code",
   "execution_count": 46,
   "metadata": {},
   "outputs": [],
   "source": [
    "def get_dataset(train_data):\n",
    "    x_train = []\n",
    "    for i in range(CANDLES_HISTORY, len(train_data)):\n",
    "        x_train.append(train_data[i-CANDLES_HISTORY:i, :-1])\n",
    "    return np.array(x_train)"
   ]
  },
  {
   "cell_type": "code",
   "execution_count": 54,
   "metadata": {},
   "outputs": [],
   "source": [
    "def create_model(shape_examples, shape_features):\n",
    "    print(colored('Generating LSTM model.', 'yellow'))\n",
    "    print(colored(f'Shape {shape_examples}x{shape_features}', 'cyan'))\n",
    "\n",
    "    model = Sequential()\n",
    "    model.add(LSTM(\n",
    "        units=50,\n",
    "        return_sequences=True,\n",
    "        input_shape=(shape_examples, shape_features)\n",
    "    ))\n",
    "    model.add(LSTM(units=50, return_sequences=False))\n",
    "    model.add(Dropout(0.1))\n",
    "    model.add(Dense(25))\n",
    "    model.add(Dense(1, activation='sigmoid'))\n",
    "    model.compile(optimizer='adam', loss='binary_crossentropy', metrics=[\"accuracy\"])\n",
    "    return model\n"
   ]
  },
  {
   "cell_type": "code",
   "execution_count": 48,
   "metadata": {},
   "outputs": [
    {
     "data": {
      "text/html": [
       "<div>\n",
       "<style scoped>\n",
       "    .dataframe tbody tr th:only-of-type {\n",
       "        vertical-align: middle;\n",
       "    }\n",
       "\n",
       "    .dataframe tbody tr th {\n",
       "        vertical-align: top;\n",
       "    }\n",
       "\n",
       "    .dataframe thead th {\n",
       "        text-align: right;\n",
       "    }\n",
       "</style>\n",
       "<table border=\"1\" class=\"dataframe\">\n",
       "  <thead>\n",
       "    <tr style=\"text-align: right;\">\n",
       "      <th></th>\n",
       "      <th>Close</th>\n",
       "      <th>Open</th>\n",
       "      <th>High</th>\n",
       "      <th>Low</th>\n",
       "      <th>RSI_20</th>\n",
       "      <th>STDEV_20</th>\n",
       "      <th>SMA_20</th>\n",
       "      <th>SMA_5</th>\n",
       "      <th>Zigzag</th>\n",
       "    </tr>\n",
       "  </thead>\n",
       "  <tbody>\n",
       "    <tr>\n",
       "      <th>15</th>\n",
       "      <td>12087.29</td>\n",
       "      <td>12083.28</td>\n",
       "      <td>12089.03</td>\n",
       "      <td>12081.91</td>\n",
       "      <td>66.193172</td>\n",
       "      <td>49.219136</td>\n",
       "      <td>12018.5145</td>\n",
       "      <td>12082.808</td>\n",
       "      <td>0.0</td>\n",
       "    </tr>\n",
       "    <tr>\n",
       "      <th>16</th>\n",
       "      <td>12084.04</td>\n",
       "      <td>12087.41</td>\n",
       "      <td>12088.29</td>\n",
       "      <td>12082.67</td>\n",
       "      <td>65.311899</td>\n",
       "      <td>50.998872</td>\n",
       "      <td>12022.9260</td>\n",
       "      <td>12083.836</td>\n",
       "      <td>0.0</td>\n",
       "    </tr>\n",
       "    <tr>\n",
       "      <th>17</th>\n",
       "      <td>12089.04</td>\n",
       "      <td>12083.79</td>\n",
       "      <td>12092.54</td>\n",
       "      <td>12083.04</td>\n",
       "      <td>66.044010</td>\n",
       "      <td>52.013505</td>\n",
       "      <td>12028.3510</td>\n",
       "      <td>12085.388</td>\n",
       "      <td>1.0</td>\n",
       "    </tr>\n",
       "    <tr>\n",
       "      <th>18</th>\n",
       "      <td>12089.05</td>\n",
       "      <td>12089.29</td>\n",
       "      <td>12091.30</td>\n",
       "      <td>12084.55</td>\n",
       "      <td>66.045518</td>\n",
       "      <td>52.601900</td>\n",
       "      <td>12033.6015</td>\n",
       "      <td>12086.516</td>\n",
       "      <td>0.0</td>\n",
       "    </tr>\n",
       "    <tr>\n",
       "      <th>19</th>\n",
       "      <td>12083.31</td>\n",
       "      <td>12089.05</td>\n",
       "      <td>12089.05</td>\n",
       "      <td>12083.18</td>\n",
       "      <td>64.318847</td>\n",
       "      <td>48.159775</td>\n",
       "      <td>12041.0530</td>\n",
       "      <td>12086.546</td>\n",
       "      <td>0.0</td>\n",
       "    </tr>\n",
       "    <tr>\n",
       "      <th>20</th>\n",
       "      <td>12061.81</td>\n",
       "      <td>12083.43</td>\n",
       "      <td>12083.56</td>\n",
       "      <td>12061.81</td>\n",
       "      <td>58.308480</td>\n",
       "      <td>45.072177</td>\n",
       "      <td>12045.7830</td>\n",
       "      <td>12081.450</td>\n",
       "      <td>0.0</td>\n",
       "    </tr>\n",
       "    <tr>\n",
       "      <th>21</th>\n",
       "      <td>12062.10</td>\n",
       "      <td>12062.06</td>\n",
       "      <td>12071.35</td>\n",
       "      <td>12062.06</td>\n",
       "      <td>58.363722</td>\n",
       "      <td>41.249476</td>\n",
       "      <td>12050.5010</td>\n",
       "      <td>12077.062</td>\n",
       "      <td>0.0</td>\n",
       "    </tr>\n",
       "    <tr>\n",
       "      <th>22</th>\n",
       "      <td>12053.82</td>\n",
       "      <td>12063.85</td>\n",
       "      <td>12069.56</td>\n",
       "      <td>12051.32</td>\n",
       "      <td>56.128528</td>\n",
       "      <td>36.068309</td>\n",
       "      <td>12054.9190</td>\n",
       "      <td>12070.018</td>\n",
       "      <td>0.0</td>\n",
       "    </tr>\n",
       "    <tr>\n",
       "      <th>23</th>\n",
       "      <td>12055.94</td>\n",
       "      <td>12054.32</td>\n",
       "      <td>12062.37</td>\n",
       "      <td>12051.32</td>\n",
       "      <td>56.576733</td>\n",
       "      <td>31.872576</td>\n",
       "      <td>12058.5590</td>\n",
       "      <td>12063.396</td>\n",
       "      <td>0.0</td>\n",
       "    </tr>\n",
       "    <tr>\n",
       "      <th>24</th>\n",
       "      <td>12057.77</td>\n",
       "      <td>12056.44</td>\n",
       "      <td>12070.62</td>\n",
       "      <td>12049.57</td>\n",
       "      <td>56.976121</td>\n",
       "      <td>27.876893</td>\n",
       "      <td>12061.8080</td>\n",
       "      <td>12058.288</td>\n",
       "      <td>0.0</td>\n",
       "    </tr>\n",
       "  </tbody>\n",
       "</table>\n",
       "</div>"
      ],
      "text/plain": [
       "       Close      Open      High       Low     RSI_20   STDEV_20      SMA_20  \\\n",
       "15  12087.29  12083.28  12089.03  12081.91  66.193172  49.219136  12018.5145   \n",
       "16  12084.04  12087.41  12088.29  12082.67  65.311899  50.998872  12022.9260   \n",
       "17  12089.04  12083.79  12092.54  12083.04  66.044010  52.013505  12028.3510   \n",
       "18  12089.05  12089.29  12091.30  12084.55  66.045518  52.601900  12033.6015   \n",
       "19  12083.31  12089.05  12089.05  12083.18  64.318847  48.159775  12041.0530   \n",
       "20  12061.81  12083.43  12083.56  12061.81  58.308480  45.072177  12045.7830   \n",
       "21  12062.10  12062.06  12071.35  12062.06  58.363722  41.249476  12050.5010   \n",
       "22  12053.82  12063.85  12069.56  12051.32  56.128528  36.068309  12054.9190   \n",
       "23  12055.94  12054.32  12062.37  12051.32  56.576733  31.872576  12058.5590   \n",
       "24  12057.77  12056.44  12070.62  12049.57  56.976121  27.876893  12061.8080   \n",
       "\n",
       "        SMA_5  Zigzag  \n",
       "15  12082.808     0.0  \n",
       "16  12083.836     0.0  \n",
       "17  12085.388     1.0  \n",
       "18  12086.516     0.0  \n",
       "19  12086.546     0.0  \n",
       "20  12081.450     0.0  \n",
       "21  12077.062     0.0  \n",
       "22  12070.018     0.0  \n",
       "23  12063.396     0.0  \n",
       "24  12058.288     0.0  "
      ]
     },
     "execution_count": 48,
     "metadata": {},
     "output_type": "execute_result"
    }
   ],
   "source": [
    "try:\n",
    "    df = pd.read_csv(\"resources/test.csv\")\n",
    "except FileNotFoundError:\n",
    "    print(colored('Creating missing file.', 'red'))\n",
    "    get_data()\n",
    "    df = pd.read_csv(\"resources/test.csv\")\n",
    "\n",
    "df = df.iloc[48680:, :]\n",
    "df.reset_index(inplace=True, drop=True)\n",
    "indicators = list(filter(\n",
    "    lambda x: x not in [\"timestamp\", \"Zigzag\"],\n",
    "    get_column_indicators(df.columns)\n",
    "))\n",
    "df = df[[\"Close\", \"Open\", \"High\", \"Low\"] + indicators + [\"Zigzag\"]]\n",
    "df[(CANDLES_HISTORY - 5):(CANDLES_HISTORY + 5)]\n"
   ]
  },
  {
   "cell_type": "code",
   "execution_count": 49,
   "metadata": {},
   "outputs": [
    {
     "name": "stdout",
     "output_type": "stream",
     "text": [
      "\u001b[33mSetting up parameters.\u001b[0m\n",
      "\u001b[32mParameters saved succesfully.\u001b[0m\n"
     ]
    }
   ],
   "source": [
    "try:\n",
    "    X = np.load('resources/parameters/X.npy')\n",
    "    Y = np.load('resources/parameters/Y.npy')\n",
    "    scaler = joblib.load(\"resources/parameters/scaler.save\")\n",
    "    print(colored('Loaded storaged data.', 'green'))\n",
    "except FileNotFoundError:\n",
    "    print(colored('Setting up parameters.', 'yellow'))\n",
    "    scaler = MinMaxScaler(feature_range=(0, 1))\n",
    "    scaled_data = scaler.fit_transform(df.values)\n",
    "\n",
    "    if not os.path.exists(\"resources/parameters\"):\n",
    "        os.makedirs(\"resources/parameters\")\n",
    "\n",
    "    joblib.dump(scaler, \"resources/parameters/scaler.save\")\n",
    "    X = get_dataset(scaled_data)\n",
    "    Y = np.array(scaled_data[CANDLES_HISTORY:len(scaled_data), -1])\n",
    "    np.save(\"resources/parameters/X.npy\", X)\n",
    "    np.save(\"resources/parameters/Y.npy\", Y)\n",
    "    print(colored('Parameters saved succesfully.', 'green'))\n"
   ]
  },
  {
   "cell_type": "code",
   "execution_count": 50,
   "metadata": {},
   "outputs": [
    {
     "name": "stdout",
     "output_type": "stream",
     "text": [
      "15804\n",
      "[16489.6       16482.11      16502.91      16476.72         60.4189641\n",
      "    38.0087923 16429.2275    16469.492         0.       ]\n",
      "[16489.6       16482.11      16502.91      16476.72         60.4189641\n",
      "    38.0087923 16429.2275    16469.492         0.       ]\n"
     ]
    },
    {
     "data": {
      "text/plain": [
       "True"
      ]
     },
     "execution_count": 50,
     "metadata": {},
     "output_type": "execute_result"
    }
   ],
   "source": [
    "RANDOM_VALUE = random.randint(0, len(Y))\n",
    "check_split_df = pd.DataFrame(X[CANDLES_HISTORY + RANDOM_VALUE])\n",
    "check_split_df[\"prediction\"] = Y[RANDOM_VALUE:CANDLES_HISTORY + RANDOM_VALUE]\n",
    "check_split_df = scaler.inverse_transform(check_split_df.values)\n",
    "check_split_df = pd.DataFrame(check_split_df)\n",
    "print(RANDOM_VALUE)\n",
    "print(check_split_df.loc[0].values)\n",
    "print(df.loc[CANDLES_HISTORY + RANDOM_VALUE].values)\n",
    "\n",
    "all(check_split_df.loc[0].values.round() == df.loc[CANDLES_HISTORY + RANDOM_VALUE].values.round())\n",
    "\n"
   ]
  },
  {
   "cell_type": "code",
   "execution_count": 51,
   "metadata": {},
   "outputs": [
    {
     "name": "stdout",
     "output_type": "stream",
     "text": [
      "\u001b[33mX shape: (22010, 20, 8)\u001b[0m\n",
      "\u001b[33mY shape: (22010,)\u001b[0m\n",
      "\u001b[34mX_train shape: (17608, 20, 8)\u001b[0m\n",
      "\u001b[34mY_train shape: (17608,)\u001b[0m\n",
      "\u001b[36mX_test shape: (4401, 20, 8)\u001b[0m\n",
      "\u001b[36mY_test shape: (4401,)\u001b[0m\n",
      "\u001b[31mShrink: 17608\u001b[0m\n"
     ]
    }
   ],
   "source": [
    "PERCENTAGE_DATA = 0\n",
    "\n",
    "print(colored(f'X shape: {X.shape}', 'yellow'))\n",
    "print(colored(f'Y shape: {Y.shape}', 'yellow'))\n",
    "\n",
    "training_data_len = math.ceil(len(Y) * .80)\n",
    "x_train = X[:training_data_len]\n",
    "y_train = Y[:training_data_len]\n",
    "\n",
    "zipped = list(zip(x_train, y_train))\n",
    "random.shuffle(zipped)\n",
    "zipped_len_train = math.ceil(len(zipped) - len(zipped) * PERCENTAGE_DATA)\n",
    "zipped = zipped[:zipped_len_train]\n",
    "x_train, y_train = zip(*zipped)\n",
    "\n",
    "x_train = np.array(x_train)\n",
    "y_train = np.array(y_train)\n",
    "\n",
    "print(colored(f'X_train shape: {x_train.shape}', 'blue'))\n",
    "print(colored(f'Y_train shape: {y_train.shape}', 'blue'))\n",
    "\n",
    "divition = training_data_len  # + (len(Y[training_data_len:]) / 5)\n",
    "shrink = math.ceil(divition)\n",
    "x_test = X[shrink:-1]\n",
    "y_test = Y[shrink:-1]\n",
    "\n",
    "zipped = list(zip(x_test, y_test))\n",
    "random.shuffle(zipped)\n",
    "zipped_len_test = math.ceil(len(zipped) - len(zipped) * PERCENTAGE_DATA)\n",
    "zipped = zipped[:zipped_len_test]\n",
    "x_test, y_test = zip(*zipped)\n",
    "\n",
    "x_test = np.array(x_test)\n",
    "y_test = np.array(y_test)\n",
    "\n",
    "print(colored(f'X_test shape: {x_test.shape}', 'cyan'))\n",
    "print(colored(f'Y_test shape: {y_test.shape}', 'cyan'))\n",
    "print(colored(f'Shrink: {shrink}', 'red'))\n"
   ]
  },
  {
   "cell_type": "code",
   "execution_count": 52,
   "metadata": {},
   "outputs": [
    {
     "name": "stdout",
     "output_type": "stream",
     "text": [
      "test + train: \u001b[32m22009\u001b[0m\n"
     ]
    }
   ],
   "source": [
    "\n",
    "def get_len(samples):\n",
    "    return math.ceil(len(samples) * PERCENTAGE_DATA)\n",
    "\n",
    "\n",
    "def compute_total():\n",
    "    return (\n",
    "        (y_test.shape[0] + get_len(Y[training_data_len:]))\n",
    "        +\n",
    "        (\n",
    "            shrink - (\n",
    "                y_train.shape[0] +\n",
    "                get_len(Y[:training_data_len])\n",
    "            )\n",
    "        )\n",
    "        +\n",
    "        (y_train.shape[0] + get_len(Y[:training_data_len]))\n",
    "    )\n",
    "\n",
    "\n",
    "print('test + train:', colored(\n",
    "    compute_total(),\n",
    "    'green' if (compute_total()) else 'red'\n",
    "))"
   ]
  },
  {
   "cell_type": "code",
   "execution_count": 55,
   "metadata": {},
   "outputs": [
    {
     "name": "stdout",
     "output_type": "stream",
     "text": [
      "\u001b[33mTraining...\u001b[0m\n",
      "\u001b[33mGenerating LSTM model.\u001b[0m\n",
      "\u001b[36mShape 20x8\u001b[0m\n",
      "Epoch 1/1000\n"
     ]
    },
    {
     "ename": "ValueError",
     "evalue": "in user code:\n\n    File \"/home/ubuntu/Work/price_prediction/us100_prediction/env/lib/python3.8/site-packages/keras/engine/training.py\", line 1051, in train_function  *\n        return step_function(self, iterator)\n    File \"/home/ubuntu/Work/price_prediction/us100_prediction/env/lib/python3.8/site-packages/keras/engine/training.py\", line 1040, in step_function  **\n        outputs = model.distribute_strategy.run(run_step, args=(data,))\n    File \"/home/ubuntu/Work/price_prediction/us100_prediction/env/lib/python3.8/site-packages/keras/engine/training.py\", line 1030, in run_step  **\n        outputs = model.train_step(data)\n    File \"/home/ubuntu/Work/price_prediction/us100_prediction/env/lib/python3.8/site-packages/keras/engine/training.py\", line 894, in train_step\n        return self.compute_metrics(x, y, y_pred, sample_weight)\n    File \"/home/ubuntu/Work/price_prediction/us100_prediction/env/lib/python3.8/site-packages/keras/engine/training.py\", line 987, in compute_metrics\n        self.compiled_metrics.update_state(y, y_pred, sample_weight)\n    File \"/home/ubuntu/Work/price_prediction/us100_prediction/env/lib/python3.8/site-packages/keras/engine/compile_utils.py\", line 480, in update_state\n        self.build(y_pred, y_true)\n    File \"/home/ubuntu/Work/price_prediction/us100_prediction/env/lib/python3.8/site-packages/keras/engine/compile_utils.py\", line 393, in build\n        self._metrics = tf.__internal__.nest.map_structure_up_to(\n    File \"/home/ubuntu/Work/price_prediction/us100_prediction/env/lib/python3.8/site-packages/keras/engine/compile_utils.py\", line 526, in _get_metric_objects\n        return [self._get_metric_object(m, y_t, y_p) for m in metrics]\n    File \"/home/ubuntu/Work/price_prediction/us100_prediction/env/lib/python3.8/site-packages/keras/engine/compile_utils.py\", line 526, in <listcomp>\n        return [self._get_metric_object(m, y_t, y_p) for m in metrics]\n    File \"/home/ubuntu/Work/price_prediction/us100_prediction/env/lib/python3.8/site-packages/keras/engine/compile_utils.py\", line 545, in _get_metric_object\n        metric_obj = metrics_mod.get(metric)\n    File \"/home/ubuntu/Work/price_prediction/us100_prediction/env/lib/python3.8/site-packages/keras/metrics/__init__.py\", line 182, in get\n        return deserialize(str(identifier))\n    File \"/home/ubuntu/Work/price_prediction/us100_prediction/env/lib/python3.8/site-packages/keras/metrics/__init__.py\", line 138, in deserialize\n        return deserialize_keras_object(\n    File \"/home/ubuntu/Work/price_prediction/us100_prediction/env/lib/python3.8/site-packages/keras/utils/generic_utils.py\", line 709, in deserialize_keras_object\n        raise ValueError(\n\n    ValueError: Unknown metric function: val_acc. Please ensure this object is passed to the `custom_objects` argument. See https://www.tensorflow.org/guide/keras/save_and_serialize#registering_the_custom_object for details.\n",
     "output_type": "error",
     "traceback": [
      "\u001b[0;31m---------------------------------------------------------------------------\u001b[0m",
      "\u001b[0;31mValueError\u001b[0m                                Traceback (most recent call last)",
      "\u001b[1;32m/home/ubuntu/Work/price_prediction/us100_prediction/jupyter_lstm_binary.ipynb Celda 10\u001b[0m in \u001b[0;36m<cell line: 1>\u001b[0;34m()\u001b[0m\n\u001b[1;32m     <a href='vscode-notebook-cell:/home/ubuntu/Work/price_prediction/us100_prediction/jupyter_lstm_binary.ipynb#ch0000009?line=16'>17</a>\u001b[0m log_dir \u001b[39m=\u001b[39m \u001b[39m\"\u001b[39m\u001b[39mlogs/fit\u001b[39m\u001b[39m\"\u001b[39m\n\u001b[1;32m     <a href='vscode-notebook-cell:/home/ubuntu/Work/price_prediction/us100_prediction/jupyter_lstm_binary.ipynb#ch0000009?line=17'>18</a>\u001b[0m tensorboard_callback \u001b[39m=\u001b[39m tf\u001b[39m.\u001b[39mkeras\u001b[39m.\u001b[39mcallbacks\u001b[39m.\u001b[39mTensorBoard(log_dir\u001b[39m=\u001b[39mlog_dir, histogram_freq\u001b[39m=\u001b[39m\u001b[39m1\u001b[39m)\n\u001b[0;32m---> <a href='vscode-notebook-cell:/home/ubuntu/Work/price_prediction/us100_prediction/jupyter_lstm_binary.ipynb#ch0000009?line=18'>19</a>\u001b[0m history \u001b[39m=\u001b[39m model\u001b[39m.\u001b[39;49mfit(\n\u001b[1;32m     <a href='vscode-notebook-cell:/home/ubuntu/Work/price_prediction/us100_prediction/jupyter_lstm_binary.ipynb#ch0000009?line=19'>20</a>\u001b[0m     x_train, y_train, batch_size\u001b[39m=\u001b[39;49m\u001b[39m64\u001b[39;49m, epochs\u001b[39m=\u001b[39;49m\u001b[39m1000\u001b[39;49m,\n\u001b[1;32m     <a href='vscode-notebook-cell:/home/ubuntu/Work/price_prediction/us100_prediction/jupyter_lstm_binary.ipynb#ch0000009?line=20'>21</a>\u001b[0m     validation_data\u001b[39m=\u001b[39;49m(x_test, y_test),\n\u001b[1;32m     <a href='vscode-notebook-cell:/home/ubuntu/Work/price_prediction/us100_prediction/jupyter_lstm_binary.ipynb#ch0000009?line=21'>22</a>\u001b[0m     callbacks\u001b[39m=\u001b[39;49m[checkpoint, tensorboard_callback, es]\n\u001b[1;32m     <a href='vscode-notebook-cell:/home/ubuntu/Work/price_prediction/us100_prediction/jupyter_lstm_binary.ipynb#ch0000009?line=22'>23</a>\u001b[0m )\n\u001b[1;32m     <a href='vscode-notebook-cell:/home/ubuntu/Work/price_prediction/us100_prediction/jupyter_lstm_binary.ipynb#ch0000009?line=24'>25</a>\u001b[0m model\u001b[39m.\u001b[39msave(\u001b[39m'\u001b[39m\u001b[39mresources/model/my_model_sequential.h5\u001b[39m\u001b[39m'\u001b[39m)\n\u001b[1;32m     <a href='vscode-notebook-cell:/home/ubuntu/Work/price_prediction/us100_prediction/jupyter_lstm_binary.ipynb#ch0000009?line=25'>26</a>\u001b[0m hist_df \u001b[39m=\u001b[39m pd\u001b[39m.\u001b[39mDataFrame(history\u001b[39m.\u001b[39mhistory)\n",
      "File \u001b[0;32m~/Work/price_prediction/us100_prediction/env/lib/python3.8/site-packages/keras/utils/traceback_utils.py:67\u001b[0m, in \u001b[0;36mfilter_traceback.<locals>.error_handler\u001b[0;34m(*args, **kwargs)\u001b[0m\n\u001b[1;32m     65\u001b[0m \u001b[39mexcept\u001b[39;00m \u001b[39mException\u001b[39;00m \u001b[39mas\u001b[39;00m e:  \u001b[39m# pylint: disable=broad-except\u001b[39;00m\n\u001b[1;32m     66\u001b[0m   filtered_tb \u001b[39m=\u001b[39m _process_traceback_frames(e\u001b[39m.\u001b[39m__traceback__)\n\u001b[0;32m---> 67\u001b[0m   \u001b[39mraise\u001b[39;00m e\u001b[39m.\u001b[39mwith_traceback(filtered_tb) \u001b[39mfrom\u001b[39;00m \u001b[39mNone\u001b[39m\n\u001b[1;32m     68\u001b[0m \u001b[39mfinally\u001b[39;00m:\n\u001b[1;32m     69\u001b[0m   \u001b[39mdel\u001b[39;00m filtered_tb\n",
      "File \u001b[0;32m/tmp/__autograph_generated_filec8jbcn1j.py:15\u001b[0m, in \u001b[0;36mouter_factory.<locals>.inner_factory.<locals>.tf__train_function\u001b[0;34m(iterator)\u001b[0m\n\u001b[1;32m     13\u001b[0m \u001b[39mtry\u001b[39;00m:\n\u001b[1;32m     14\u001b[0m     do_return \u001b[39m=\u001b[39m \u001b[39mTrue\u001b[39;00m\n\u001b[0;32m---> 15\u001b[0m     retval_ \u001b[39m=\u001b[39m ag__\u001b[39m.\u001b[39mconverted_call(ag__\u001b[39m.\u001b[39mld(step_function), (ag__\u001b[39m.\u001b[39mld(\u001b[39mself\u001b[39m), ag__\u001b[39m.\u001b[39mld(iterator)), \u001b[39mNone\u001b[39;00m, fscope)\n\u001b[1;32m     16\u001b[0m \u001b[39mexcept\u001b[39;00m:\n\u001b[1;32m     17\u001b[0m     do_return \u001b[39m=\u001b[39m \u001b[39mFalse\u001b[39;00m\n",
      "\u001b[0;31mValueError\u001b[0m: in user code:\n\n    File \"/home/ubuntu/Work/price_prediction/us100_prediction/env/lib/python3.8/site-packages/keras/engine/training.py\", line 1051, in train_function  *\n        return step_function(self, iterator)\n    File \"/home/ubuntu/Work/price_prediction/us100_prediction/env/lib/python3.8/site-packages/keras/engine/training.py\", line 1040, in step_function  **\n        outputs = model.distribute_strategy.run(run_step, args=(data,))\n    File \"/home/ubuntu/Work/price_prediction/us100_prediction/env/lib/python3.8/site-packages/keras/engine/training.py\", line 1030, in run_step  **\n        outputs = model.train_step(data)\n    File \"/home/ubuntu/Work/price_prediction/us100_prediction/env/lib/python3.8/site-packages/keras/engine/training.py\", line 894, in train_step\n        return self.compute_metrics(x, y, y_pred, sample_weight)\n    File \"/home/ubuntu/Work/price_prediction/us100_prediction/env/lib/python3.8/site-packages/keras/engine/training.py\", line 987, in compute_metrics\n        self.compiled_metrics.update_state(y, y_pred, sample_weight)\n    File \"/home/ubuntu/Work/price_prediction/us100_prediction/env/lib/python3.8/site-packages/keras/engine/compile_utils.py\", line 480, in update_state\n        self.build(y_pred, y_true)\n    File \"/home/ubuntu/Work/price_prediction/us100_prediction/env/lib/python3.8/site-packages/keras/engine/compile_utils.py\", line 393, in build\n        self._metrics = tf.__internal__.nest.map_structure_up_to(\n    File \"/home/ubuntu/Work/price_prediction/us100_prediction/env/lib/python3.8/site-packages/keras/engine/compile_utils.py\", line 526, in _get_metric_objects\n        return [self._get_metric_object(m, y_t, y_p) for m in metrics]\n    File \"/home/ubuntu/Work/price_prediction/us100_prediction/env/lib/python3.8/site-packages/keras/engine/compile_utils.py\", line 526, in <listcomp>\n        return [self._get_metric_object(m, y_t, y_p) for m in metrics]\n    File \"/home/ubuntu/Work/price_prediction/us100_prediction/env/lib/python3.8/site-packages/keras/engine/compile_utils.py\", line 545, in _get_metric_object\n        metric_obj = metrics_mod.get(metric)\n    File \"/home/ubuntu/Work/price_prediction/us100_prediction/env/lib/python3.8/site-packages/keras/metrics/__init__.py\", line 182, in get\n        return deserialize(str(identifier))\n    File \"/home/ubuntu/Work/price_prediction/us100_prediction/env/lib/python3.8/site-packages/keras/metrics/__init__.py\", line 138, in deserialize\n        return deserialize_keras_object(\n    File \"/home/ubuntu/Work/price_prediction/us100_prediction/env/lib/python3.8/site-packages/keras/utils/generic_utils.py\", line 709, in deserialize_keras_object\n        raise ValueError(\n\n    ValueError: Unknown metric function: val_acc. Please ensure this object is passed to the `custom_objects` argument. See https://www.tensorflow.org/guide/keras/save_and_serialize#registering_the_custom_object for details.\n"
     ]
    }
   ],
   "source": [
    "try:\n",
    "    model = load_model('resources/model/my_model_sequential.h5')\n",
    "    print(colored('Model loaded successfully', 'green'))\n",
    "except IOError:\n",
    "    if not os.path.exists(\"resources/model\"):\n",
    "        os.makedirs(\"resources/model\")\n",
    "    print(colored('Training...', 'yellow'))\n",
    "    model = create_model(X.shape[1], X.shape[-1])\n",
    "    es = EarlyStopping(monitor='val_accuracy', mode='min', verbose=1, patience=100)\n",
    "    checkpoint = ModelCheckpoint(\n",
    "        'resources/model/best_model_checkpoint.h5',\n",
    "        monitor='val_acc',\n",
    "        mode='min',\n",
    "        verbose=1,\n",
    "        save_best_only=True\n",
    "    )\n",
    "    log_dir = \"logs/fit\"\n",
    "    tensorboard_callback = tf.keras.callbacks.TensorBoard(log_dir=log_dir, histogram_freq=1)\n",
    "    history = model.fit(\n",
    "        x_train, y_train, batch_size=64, epochs=1000,\n",
    "        validation_data=(x_test, y_test),\n",
    "        callbacks=[checkpoint, tensorboard_callback, es]\n",
    "    )\n",
    "\n",
    "    model.save('resources/model/my_model_sequential.h5')\n",
    "    hist_df = pd.DataFrame(history.history)\n",
    "    with open('resources/model/history_sequential.csv', mode='w') as f:\n",
    "        hist_df.to_csv(f)\n"
   ]
  },
  {
   "cell_type": "code",
   "execution_count": null,
   "metadata": {},
   "outputs": [
    {
     "data": {
      "image/png": "[encoded data removed]",
      "text/plain": [
       "<Figure size 432x288 with 1 Axes>"
      ]
     },
     "metadata": {
      "needs_background": "light"
     },
     "output_type": "display_data"
    }
   ],
   "source": [
    "history = pd.read_csv(\"resources/model/history_sequential.csv\")\n",
    "plt.plot(history['loss'])\n",
    "plt.plot(history['val_loss'])\n",
    "plt.title('model loss')\n",
    "plt.ylabel('loss')\n",
    "plt.xlabel('epoch')\n",
    "plt.legend(['train', 'val'], loc='upper left')\n",
    "plt.show()"
   ]
  },
  {
   "cell_type": "code",
   "execution_count": null,
   "metadata": {},
   "outputs": [
    {
     "data": {
      "text/plain": [
       "5.395666812546551e-05"
      ]
     },
     "execution_count": 45,
     "metadata": {},
     "output_type": "execute_result"
    }
   ],
   "source": [
    "train_acc = model.evaluate(x_train, y_train, verbose=0)\n",
    "train_acc"
   ]
  },
  {
   "cell_type": "code",
   "execution_count": null,
   "metadata": {},
   "outputs": [
    {
     "name": "stdout",
     "output_type": "stream",
     "text": [
      "13259.52\n",
      "1/1 [==============================] - 0s 42ms/step\n",
      "13349.548144509792\n"
     ]
    }
   ],
   "source": [
    "index = 3\n",
    "sample = np.array([x_test[index]])\n",
    "\n",
    "y_sample = scaler.inverse_transform([[y_test[index]] * 5 + [y_test[index]]])\n",
    "print(y_sample[0][-1])\n",
    "prediction = model.predict(sample)[0][0]\n",
    "data = scaler.inverse_transform([[prediction] * 5 + [prediction]])\n",
    "print(data[0][-1])\n",
    "\n"
   ]
  }
 ],
 "metadata": {
  "kernelspec": {
   "display_name": "Python 3.8.10 ('env': venv)",
   "language": "python",
   "name": "python3"
  },
  "language_info": {
   "codemirror_mode": {
    "name": "ipython",
    "version": 3
   },
   "file_extension": ".py",
   "mimetype": "text/x-python",
   "name": "python",
   "nbconvert_exporter": "python",
   "pygments_lexer": "ipython3",
   "version": "3.8.10"
  },
  "orig_nbformat": 4,
  "vscode": {
   "interpreter": {
    "hash": "dae9e42f8dbae331ab4071b17bf18fe65d81ba417c94f4ed1528b325f1741587"
   }
  }
 },
 "nbformat": 4,
 "nbformat_minor": 2
}
