{
 "cells": [
  {
   "cell_type": "code",
   "execution_count": 13,
   "metadata": {},
   "outputs": [],
   "source": [
    "import math\n",
    "from termcolor import colored\n",
    "import pandas_datareader as web\n",
    "import numpy as np\n",
    "import pandas as pd\n",
    "from sklearn.preprocessing import MinMaxScaler\n",
    "import joblib\n",
    "from keras.models import Sequential\n",
    "from keras.layers import Dense, LSTM, Dropout\n",
    "from keras.models import load_model\n",
    "import matplotlib.pyplot as plt\n",
    "from prepare_data import get_data\n",
    "from sklearn.model_selection import train_test_split"
   ]
  },
  {
   "cell_type": "code",
   "execution_count": 14,
   "metadata": {},
   "outputs": [],
   "source": [
    "def get_dataset(train_data):\n",
    "    \"\"\" Fills len(train_data) long arrays with 60 records \n",
    "        in each position\n",
    "        example = [[1...60], [1...60], ...]\n",
    "    \"\"\"\n",
    "    x_train = []\n",
    "    for i in range(60, len(train_data)):\n",
    "        x_train.append(train_data[i-60:i, :-1])\n",
    "    return np.array(x_train)"
   ]
  },
  {
   "cell_type": "code",
   "execution_count": 15,
   "metadata": {},
   "outputs": [],
   "source": [
    "def create_model(shape_examples, shape_features):\n",
    "    print(colored('Generating LSTM model.', 'yellow'))\n",
    "    print(colored(f'Shape {shape_examples}x{shape_features}', 'cyan'))\n",
    "\n",
    "    model = Sequential()\n",
    "    model.add(LSTM(\n",
    "        units=50,\n",
    "        return_sequences=True,\n",
    "        input_shape=(shape_examples, shape_features)\n",
    "    ))\n",
    "    model.add(Dropout(0.2))\n",
    "    model.add(LSTM(units=50, return_sequences=True))\n",
    "    model.add(Dropout(0.25))\n",
    "    model.add(LSTM(units=50))\n",
    "    model.add(Dropout(0.25))\n",
    "    model.add(Dense(units=1))\n",
    "    model.compile(optimizer='adam', loss='mean_squared_error')\n",
    "    return model\n"
   ]
  },
  {
   "cell_type": "code",
   "execution_count": 16,
   "metadata": {},
   "outputs": [
    {
     "data": {
      "text/html": [
       "<div>\n",
       "<style scoped>\n",
       "    .dataframe tbody tr th:only-of-type {\n",
       "        vertical-align: middle;\n",
       "    }\n",
       "\n",
       "    .dataframe tbody tr th {\n",
       "        vertical-align: top;\n",
       "    }\n",
       "\n",
       "    .dataframe thead th {\n",
       "        text-align: right;\n",
       "    }\n",
       "</style>\n",
       "<table border=\"1\" class=\"dataframe\">\n",
       "  <thead>\n",
       "    <tr style=\"text-align: right;\">\n",
       "      <th></th>\n",
       "      <th>High</th>\n",
       "      <th>Open</th>\n",
       "      <th>Close</th>\n",
       "      <th>Low</th>\n",
       "      <th>AO_1_500</th>\n",
       "      <th>SMA_500</th>\n",
       "      <th>RSI_14</th>\n",
       "      <th>ATRr_14</th>\n",
       "      <th>STDEV_30</th>\n",
       "      <th>prediction</th>\n",
       "    </tr>\n",
       "  </thead>\n",
       "  <tbody>\n",
       "    <tr>\n",
       "      <th>55</th>\n",
       "      <td>3082.9</td>\n",
       "      <td>3077.6</td>\n",
       "      <td>3071.2</td>\n",
       "      <td>3061.3</td>\n",
       "      <td>361.9362</td>\n",
       "      <td>2711.3092</td>\n",
       "      <td>64.886813</td>\n",
       "      <td>26.227139</td>\n",
       "      <td>70.245829</td>\n",
       "      <td>3088.2</td>\n",
       "    </tr>\n",
       "    <tr>\n",
       "      <th>56</th>\n",
       "      <td>3098.9</td>\n",
       "      <td>3071.1</td>\n",
       "      <td>3088.2</td>\n",
       "      <td>3070.2</td>\n",
       "      <td>372.6779</td>\n",
       "      <td>2713.0380</td>\n",
       "      <td>68.575561</td>\n",
       "      <td>26.403772</td>\n",
       "      <td>66.495965</td>\n",
       "      <td>3095.4</td>\n",
       "    </tr>\n",
       "    <tr>\n",
       "      <th>57</th>\n",
       "      <td>3109.4</td>\n",
       "      <td>3087.9</td>\n",
       "      <td>3095.4</td>\n",
       "      <td>3083.7</td>\n",
       "      <td>382.9923</td>\n",
       "      <td>2714.6882</td>\n",
       "      <td>70.012433</td>\n",
       "      <td>26.353502</td>\n",
       "      <td>63.961167</td>\n",
       "      <td>3120.7</td>\n",
       "    </tr>\n",
       "    <tr>\n",
       "      <th>58</th>\n",
       "      <td>3127.9</td>\n",
       "      <td>3095.7</td>\n",
       "      <td>3120.7</td>\n",
       "      <td>3094.4</td>\n",
       "      <td>395.8851</td>\n",
       "      <td>2716.4402</td>\n",
       "      <td>74.435823</td>\n",
       "      <td>26.863966</td>\n",
       "      <td>62.820996</td>\n",
       "      <td>3141.8</td>\n",
       "    </tr>\n",
       "    <tr>\n",
       "      <th>59</th>\n",
       "      <td>3142.3</td>\n",
       "      <td>3120.8</td>\n",
       "      <td>3141.8</td>\n",
       "      <td>3116.9</td>\n",
       "      <td>412.5848</td>\n",
       "      <td>2718.1824</td>\n",
       "      <td>77.426439</td>\n",
       "      <td>26.759397</td>\n",
       "      <td>61.959707</td>\n",
       "      <td>3138.4</td>\n",
       "    </tr>\n",
       "    <tr>\n",
       "      <th>60</th>\n",
       "      <td>3139.9</td>\n",
       "      <td>3138.9</td>\n",
       "      <td>3138.4</td>\n",
       "      <td>3136.8</td>\n",
       "      <td>419.6071</td>\n",
       "      <td>2719.8960</td>\n",
       "      <td>75.885905</td>\n",
       "      <td>25.205155</td>\n",
       "      <td>59.913741</td>\n",
       "      <td>3135.4</td>\n",
       "    </tr>\n",
       "    <tr>\n",
       "      <th>61</th>\n",
       "      <td>3143.7</td>\n",
       "      <td>3138.2</td>\n",
       "      <td>3135.4</td>\n",
       "      <td>3131.7</td>\n",
       "      <td>417.2483</td>\n",
       "      <td>2721.6002</td>\n",
       "      <td>74.477798</td>\n",
       "      <td>24.261929</td>\n",
       "      <td>57.994641</td>\n",
       "      <td>3119.9</td>\n",
       "    </tr>\n",
       "    <tr>\n",
       "      <th>62</th>\n",
       "      <td>3142.9</td>\n",
       "      <td>3135.7</td>\n",
       "      <td>3119.9</td>\n",
       "      <td>3109.9</td>\n",
       "      <td>404.2736</td>\n",
       "      <td>2723.2684</td>\n",
       "      <td>67.507932</td>\n",
       "      <td>24.886077</td>\n",
       "      <td>54.412845</td>\n",
       "      <td>3119.0</td>\n",
       "    </tr>\n",
       "    <tr>\n",
       "      <th>63</th>\n",
       "      <td>3122.9</td>\n",
       "      <td>3120.1</td>\n",
       "      <td>3119.0</td>\n",
       "      <td>3094.4</td>\n",
       "      <td>384.8622</td>\n",
       "      <td>2724.9696</td>\n",
       "      <td>67.115184</td>\n",
       "      <td>25.144215</td>\n",
       "      <td>51.075969</td>\n",
       "      <td>3129.4</td>\n",
       "    </tr>\n",
       "    <tr>\n",
       "      <th>64</th>\n",
       "      <td>3137.0</td>\n",
       "      <td>3119.1</td>\n",
       "      <td>3129.4</td>\n",
       "      <td>3109.5</td>\n",
       "      <td>397.7627</td>\n",
       "      <td>2726.6616</td>\n",
       "      <td>69.335289</td>\n",
       "      <td>25.312485</td>\n",
       "      <td>49.252052</td>\n",
       "      <td>3115.6</td>\n",
       "    </tr>\n",
       "  </tbody>\n",
       "</table>\n",
       "</div>"
      ],
      "text/plain": [
       "      High    Open   Close     Low  AO_1_500    SMA_500     RSI_14    ATRr_14  \\\n",
       "55  3082.9  3077.6  3071.2  3061.3  361.9362  2711.3092  64.886813  26.227139   \n",
       "56  3098.9  3071.1  3088.2  3070.2  372.6779  2713.0380  68.575561  26.403772   \n",
       "57  3109.4  3087.9  3095.4  3083.7  382.9923  2714.6882  70.012433  26.353502   \n",
       "58  3127.9  3095.7  3120.7  3094.4  395.8851  2716.4402  74.435823  26.863966   \n",
       "59  3142.3  3120.8  3141.8  3116.9  412.5848  2718.1824  77.426439  26.759397   \n",
       "60  3139.9  3138.9  3138.4  3136.8  419.6071  2719.8960  75.885905  25.205155   \n",
       "61  3143.7  3138.2  3135.4  3131.7  417.2483  2721.6002  74.477798  24.261929   \n",
       "62  3142.9  3135.7  3119.9  3109.9  404.2736  2723.2684  67.507932  24.886077   \n",
       "63  3122.9  3120.1  3119.0  3094.4  384.8622  2724.9696  67.115184  25.144215   \n",
       "64  3137.0  3119.1  3129.4  3109.5  397.7627  2726.6616  69.335289  25.312485   \n",
       "\n",
       "     STDEV_30  prediction  \n",
       "55  70.245829      3088.2  \n",
       "56  66.495965      3095.4  \n",
       "57  63.961167      3120.7  \n",
       "58  62.820996      3141.8  \n",
       "59  61.959707      3138.4  \n",
       "60  59.913741      3135.4  \n",
       "61  57.994641      3119.9  \n",
       "62  54.412845      3119.0  \n",
       "63  51.075969      3129.4  \n",
       "64  49.252052      3115.6  "
      ]
     },
     "execution_count": 16,
     "metadata": {},
     "output_type": "execute_result"
    }
   ],
   "source": [
    "try:\n",
    "    df = pd.read_csv(\"resources/test.csv\")\n",
    "except FileNotFoundError:\n",
    "    print(colored('Creating missing file.', 'red'))\n",
    "    get_data()\n",
    "    df = pd.read_csv(\"resources/test.csv\")\n",
    "df = df.iloc[:, 2:]\n",
    "df[55:65]"
   ]
  },
  {
   "cell_type": "code",
   "execution_count": 17,
   "metadata": {},
   "outputs": [
    {
     "name": "stdout",
     "output_type": "stream",
     "text": [
      "\u001b[32mLoaded storaged data.\u001b[0m\n"
     ]
    }
   ],
   "source": [
    "try:\n",
    "    X = np.load('resources/X.npy')\n",
    "    Y = np.load('resources/Y.npy')\n",
    "    scaler = joblib.load(\"resources/scaler.save\")\n",
    "    print(colored('Loaded storaged data.', 'green'))\n",
    "except FileNotFoundError:\n",
    "    print(colored('Setting up parameters.', 'yellow'))\n",
    "    scaler = MinMaxScaler(feature_range=(0, 1))\n",
    "    scaled_data = scaler.fit_transform(df.values)  # shape (70718, 8)\n",
    "    joblib.dump(scaler, \"resources/scaler.save\")\n",
    "    X = get_dataset(scaled_data)\n",
    "    Y = np.array(scaled_data[60:len(scaled_data), -1])\n",
    "    np.save(\"resources/X.npy\", X)\n",
    "    np.save(\"resources/Y.npy\", Y)\n",
    "    print(colored('Parameters saved succesfully.', 'green'))\n"
   ]
  },
  {
   "cell_type": "code",
   "execution_count": 18,
   "metadata": {},
   "outputs": [
    {
     "name": "stdout",
     "output_type": "stream",
     "text": [
      "\u001b[33mX shape: (70190, 60, 9)\u001b[0m\n",
      "\u001b[33mY shape: (70190,)\u001b[0m\n",
      "\u001b[34mX_train shape: (52643, 60, 9)\u001b[0m\n",
      "\u001b[34mY_train shape: (52643,)\u001b[0m\n",
      "\u001b[31mX_test shape: (17546, 60, 9)\u001b[0m\n",
      "\u001b[31mY_test shape: (17546,)\u001b[0m\n",
      "----------\n",
      "test + train: \u001b[32m70189\u001b[0m\n"
     ]
    }
   ],
   "source": [
    "print(colored(f'X shape: {X.shape}', 'yellow'))\n",
    "print(colored(f'Y shape: {Y.shape}', 'yellow'))\n",
    "\n",
    "training_data_len = math.ceil(len(Y) * .75)\n",
    "x_train = X[:training_data_len]\n",
    "y_train = Y[:training_data_len]\n",
    "x_train = np.array(x_train)\n",
    "y_train = np.array(y_train)\n",
    "\n",
    "print(colored(f'X_train shape: {x_train.shape}', 'blue'))\n",
    "print(colored(f'Y_train shape: {y_train.shape}', 'blue'))\n",
    "\n",
    "x_test = X[training_data_len:-1]\n",
    "y_test = Y[training_data_len:-1]\n",
    "x_test = np.array(x_test)\n",
    "y_test = np.array(y_test)\n",
    "\n",
    "print(colored(f'X_test shape: {x_test.shape}', 'red'))\n",
    "print(colored(f'Y_test shape: {y_test.shape}', 'red'))\n",
    "\n",
    "print(\"-\"*10)\n",
    "print('test + train:', colored(\n",
    "    y_test.shape[0] + y_train.shape[0],\n",
    "    'green' if y_test.shape[0] + y_train.shape[0] == (Y.shape[0] - 1) else 'red'\n",
    "))\n"
   ]
  },
  {
   "cell_type": "code",
   "execution_count": 7,
   "metadata": {},
   "outputs": [
    {
     "name": "stdout",
     "output_type": "stream",
     "text": [
      "\u001b[34mX_train_ shape: (47027, 60, 9)\u001b[0m\n",
      "\u001b[34mY_train_ shape: (47027,)\u001b[0m\n",
      "\u001b[31mX_test_ shape: (23163, 60, 9)\u001b[0m\n",
      "\u001b[31mY_test_ shape: (23163,)\u001b[0m\n"
     ]
    }
   ],
   "source": [
    "X_train_, X_test_, Y_train_, Y_test_ = train_test_split(\n",
    "    X, Y, test_size=0.33, random_state=42)\n",
    "print(colored(f'X_train_ shape: {X_train_.shape}', 'blue'))\n",
    "print(colored(f'Y_train_ shape: {Y_train_.shape}', 'blue'))\n",
    "print(colored(f'X_test_ shape: {X_test_.shape}', 'red'))\n",
    "print(colored(f'Y_test_ shape: {Y_test_.shape}', 'red'))"
   ]
  },
  {
   "cell_type": "code",
   "execution_count": 19,
   "metadata": {},
   "outputs": [
    {
     "name": "stdout",
     "output_type": "stream",
     "text": [
      "\u001b[32mModel loaded successfully\u001b[0m\n",
      "\u001b[32mModel loaded successfully\u001b[0m\n"
     ]
    }
   ],
   "source": [
    "train_data = [\"sequential\", \"random\"]\n",
    "for data_type in train_data:\n",
    "    try:\n",
    "        model = load_model(f'resources/my_model_{data_type}.h5')\n",
    "        print(colored('Model loaded successfully', 'green'))\n",
    "    except IOError:\n",
    "        print(colored('Training...', 'yellow'))\n",
    "        model = create_model(X.shape[1], X.shape[-1])\n",
    "        if data_type == \"sequential\":\n",
    "            history = model.fit(\n",
    "                x_train, y_train, batch_size=256, epochs=100,\n",
    "                validation_data=(x_test, y_test)\n",
    "            )\n",
    "        else:\n",
    "            history = model.fit(\n",
    "                X_train_, Y_train_, batch_size=256, epochs=100,\n",
    "                validation_data=(X_test_, Y_test_)\n",
    "            )\n",
    "        model.save(f'resources/my_model_{data_type}.h5')\n",
    "        hist_df = pd.DataFrame(history.history)\n",
    "        with open(f'resources/history_{data_type}.csv', mode='w') as f:\n",
    "            hist_df.to_csv(f)\n"
   ]
  },
  {
   "cell_type": "code",
   "execution_count": 20,
   "metadata": {},
   "outputs": [
    {
     "data": {
      "image/png": "[encoded data removed]",
      "text/plain": [
       "<Figure size 432x288 with 1 Axes>"
      ]
     },
     "metadata": {
      "needs_background": "light"
     },
     "output_type": "display_data"
    }
   ],
   "source": [
    "history = pd.read_csv(\"resources/history_sequential.csv\")\n",
    "plt.plot(history['loss'])\n",
    "plt.plot(history['val_loss'])\n",
    "plt.title('model loss')\n",
    "plt.ylabel('loss')\n",
    "plt.xlabel('epoch')\n",
    "plt.legend(['train', 'val'], loc='upper left')\n",
    "plt.show()"
   ]
  },
  {
   "cell_type": "code",
   "execution_count": 21,
   "metadata": {},
   "outputs": [
    {
     "name": "stderr",
     "output_type": "stream",
     "text": [
      "2022-07-28 09:41:33.809779: W tensorflow/core/framework/cpu_allocator_impl.cc:82] Allocation of 113708880 exceeds 10% of free system memory.\n"
     ]
    },
    {
     "data": {
      "text/plain": [
       "4.5706685341428965e-05"
      ]
     },
     "execution_count": 21,
     "metadata": {},
     "output_type": "execute_result"
    }
   ],
   "source": [
    "train_acc = model.evaluate(x_train, y_train, verbose=0)\n",
    "train_acc"
   ]
  },
  {
   "cell_type": "code",
   "execution_count": 22,
   "metadata": {},
   "outputs": [
    {
     "ename": "ValueError",
     "evalue": "operands could not be broadcast together with shapes (1,8) (10,) (1,8) ",
     "output_type": "error",
     "traceback": [
      "\u001b[0;31m---------------------------------------------------------------------------\u001b[0m",
      "\u001b[0;31mValueError\u001b[0m                                Traceback (most recent call last)",
      "\u001b[1;32m/home/ubuntu/Work/price_prediction/us100_prediction/jupyter_lstm.ipynb Celda 10\u001b[0m in \u001b[0;36m<cell line: 4>\u001b[0;34m()\u001b[0m\n\u001b[1;32m      <a href='vscode-notebook-cell:/home/ubuntu/Work/price_prediction/us100_prediction/jupyter_lstm.ipynb#ch0000010?line=0'>1</a>\u001b[0m index \u001b[39m=\u001b[39m \u001b[39m2\u001b[39m\n\u001b[1;32m      <a href='vscode-notebook-cell:/home/ubuntu/Work/price_prediction/us100_prediction/jupyter_lstm.ipynb#ch0000010?line=1'>2</a>\u001b[0m sample \u001b[39m=\u001b[39m np\u001b[39m.\u001b[39marray([x_train[index]])\n\u001b[0;32m----> <a href='vscode-notebook-cell:/home/ubuntu/Work/price_prediction/us100_prediction/jupyter_lstm.ipynb#ch0000010?line=3'>4</a>\u001b[0m y_sample \u001b[39m=\u001b[39m scaler\u001b[39m.\u001b[39;49minverse_transform([[y_train[index]] \u001b[39m*\u001b[39;49m \u001b[39m7\u001b[39;49m \u001b[39m+\u001b[39;49m [y_train[index]]])\n\u001b[1;32m      <a href='vscode-notebook-cell:/home/ubuntu/Work/price_prediction/us100_prediction/jupyter_lstm.ipynb#ch0000010?line=4'>5</a>\u001b[0m \u001b[39mprint\u001b[39m(y_sample[\u001b[39m0\u001b[39m][\u001b[39m-\u001b[39m\u001b[39m1\u001b[39m])\n\u001b[1;32m      <a href='vscode-notebook-cell:/home/ubuntu/Work/price_prediction/us100_prediction/jupyter_lstm.ipynb#ch0000010?line=5'>6</a>\u001b[0m prediction \u001b[39m=\u001b[39m model\u001b[39m.\u001b[39mpredict(sample)[\u001b[39m0\u001b[39m][\u001b[39m0\u001b[39m]\n",
      "File \u001b[0;32m~/Work/price_prediction/us100_prediction/env/lib/python3.8/site-packages/sklearn/preprocessing/_data.py:532\u001b[0m, in \u001b[0;36mMinMaxScaler.inverse_transform\u001b[0;34m(self, X)\u001b[0m\n\u001b[1;32m    526\u001b[0m check_is_fitted(\u001b[39mself\u001b[39m)\n\u001b[1;32m    528\u001b[0m X \u001b[39m=\u001b[39m check_array(\n\u001b[1;32m    529\u001b[0m     X, copy\u001b[39m=\u001b[39m\u001b[39mself\u001b[39m\u001b[39m.\u001b[39mcopy, dtype\u001b[39m=\u001b[39mFLOAT_DTYPES, force_all_finite\u001b[39m=\u001b[39m\u001b[39m\"\u001b[39m\u001b[39mallow-nan\u001b[39m\u001b[39m\"\u001b[39m\n\u001b[1;32m    530\u001b[0m )\n\u001b[0;32m--> 532\u001b[0m X \u001b[39m-\u001b[39m\u001b[39m=\u001b[39m \u001b[39mself\u001b[39m\u001b[39m.\u001b[39mmin_\n\u001b[1;32m    533\u001b[0m X \u001b[39m/\u001b[39m\u001b[39m=\u001b[39m \u001b[39mself\u001b[39m\u001b[39m.\u001b[39mscale_\n\u001b[1;32m    534\u001b[0m \u001b[39mreturn\u001b[39;00m X\n",
      "\u001b[0;31mValueError\u001b[0m: operands could not be broadcast together with shapes (1,8) (10,) (1,8) "
     ]
    }
   ],
   "source": [
    "# index = 2\n",
    "# sample = np.array([x_train[index]])\n",
    "\n",
    "# y_sample = scaler.inverse_transform([[y_train[index]] * 7 + [y_train[index]]])\n",
    "# print(y_sample[0][-1])\n",
    "# prediction = model.predict(sample)[0][0]\n",
    "# data = scaler.inverse_transform([[prediction] * 7 + [prediction]])\n",
    "# print(data[0][-1])\n",
    "# # print(\"train: \", mean_squared_error(y_train, prediction))\n"
   ]
  }
 ],
 "metadata": {
  "kernelspec": {
   "display_name": "Python 3.8.10 ('env': venv)",
   "language": "python",
   "name": "python3"
  },
  "language_info": {
   "codemirror_mode": {
    "name": "ipython",
    "version": 3
   },
   "file_extension": ".py",
   "mimetype": "text/x-python",
   "name": "python",
   "nbconvert_exporter": "python",
   "pygments_lexer": "ipython3",
   "version": "3.8.10"
  },
  "orig_nbformat": 4,
  "vscode": {
   "interpreter": {
    "hash": "dae9e42f8dbae331ab4071b17bf18fe65d81ba417c94f4ed1528b325f1741587"
   }
  }
 },
 "nbformat": 4,
 "nbformat_minor": 2
}
