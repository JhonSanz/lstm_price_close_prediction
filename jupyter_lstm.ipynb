{
 "cells": [
  {
   "cell_type": "code",
   "execution_count": 1,
   "metadata": {},
   "outputs": [
    {
     "name": "stderr",
     "output_type": "stream",
     "text": [
      "2022-07-30 09:05:29.956227: W tensorflow/stream_executor/platform/default/dso_loader.cc:64] Could not load dynamic library 'libcudart.so.11.0'; dlerror: libcudart.so.11.0: cannot open shared object file: No such file or directory\n",
      "2022-07-30 09:05:29.956275: I tensorflow/stream_executor/cuda/cudart_stub.cc:29] Ignore above cudart dlerror if you do not have a GPU set up on your machine.\n"
     ]
    },
    {
     "name": "stdout",
     "output_type": "stream",
     "text": [
      "\u001b[33mAdding indicators\u001b[0m\n",
      "\u001b[33mPredict 1 candles in the future\u001b[0m\n",
      "\u001b[32mData created successfully\u001b[0m\n"
     ]
    }
   ],
   "source": [
    "import os\n",
    "from shutil import rmtree\n",
    "import math\n",
    "import random\n",
    "from termcolor import colored\n",
    "import pandas_datareader as web\n",
    "import numpy as np\n",
    "import pandas as pd\n",
    "from sklearn.preprocessing import MinMaxScaler\n",
    "import joblib\n",
    "import tensorflow as tf\n",
    "from keras.models import Sequential\n",
    "from keras.layers import Dense, LSTM, Dropout\n",
    "from keras.models import load_model\n",
    "from keras.callbacks import EarlyStopping, ModelCheckpoint\n",
    "import matplotlib.pyplot as plt\n",
    "from prepare_data import get_data\n",
    "from sklearn.model_selection import train_test_split"
   ]
  },
  {
   "cell_type": "code",
   "execution_count": 2,
   "metadata": {},
   "outputs": [],
   "source": [
    "CANDLES_HISTORY = 20\n",
    "\n",
    "# if os.path.exists(\"resources/model\"):\n",
    "#     rmtree(\"resources/model\")\n",
    "# if os.path.exists(\"resources/parameters\"):\n",
    "#     rmtree(\"resources/parameters\")\n",
    "# if os.path.exists(\"logs/fit\"):\n",
    "#     rmtree(\"logs/fit\")"
   ]
  },
  {
   "cell_type": "code",
   "execution_count": 3,
   "metadata": {},
   "outputs": [],
   "source": [
    "def get_dataset(train_data):\n",
    "    x_train = []\n",
    "    for i in range(CANDLES_HISTORY, len(train_data)):\n",
    "        x_train.append(train_data[i-CANDLES_HISTORY:i, :-1])\n",
    "    return np.array(x_train)"
   ]
  },
  {
   "cell_type": "code",
   "execution_count": 4,
   "metadata": {},
   "outputs": [],
   "source": [
    "def create_model(shape_examples, shape_features):\n",
    "    print(colored('Generating LSTM model.', 'yellow'))\n",
    "    print(colored(f'Shape {shape_examples}x{shape_features}', 'cyan'))\n",
    "\n",
    "    model = Sequential()\n",
    "    model.add(LSTM(\n",
    "        units=10,\n",
    "        return_sequences=True,\n",
    "        input_shape=(shape_examples, shape_features)\n",
    "    ))\n",
    "    model.add(LSTM(units=10))\n",
    "    model.add(Dense(units=1))\n",
    "    model.compile(optimizer='adam', loss='mean_squared_error')\n",
    "    return model\n"
   ]
  },
  {
   "cell_type": "code",
   "execution_count": 5,
   "metadata": {},
   "outputs": [
    {
     "name": "stdout",
     "output_type": "stream",
     "text": [
      "(21570, 6)\n"
     ]
    },
    {
     "data": {
      "text/html": [
       "<div>\n",
       "<style scoped>\n",
       "    .dataframe tbody tr th:only-of-type {\n",
       "        vertical-align: middle;\n",
       "    }\n",
       "\n",
       "    .dataframe tbody tr th {\n",
       "        vertical-align: top;\n",
       "    }\n",
       "\n",
       "    .dataframe thead th {\n",
       "        text-align: right;\n",
       "    }\n",
       "</style>\n",
       "<table border=\"1\" class=\"dataframe\">\n",
       "  <thead>\n",
       "    <tr style=\"text-align: right;\">\n",
       "      <th></th>\n",
       "      <th>Close</th>\n",
       "      <th>SMA_14</th>\n",
       "      <th>RSI_14</th>\n",
       "      <th>ATRr_14</th>\n",
       "      <th>STDEV_30</th>\n",
       "      <th>prediction</th>\n",
       "    </tr>\n",
       "  </thead>\n",
       "  <tbody>\n",
       "    <tr>\n",
       "      <th>15</th>\n",
       "      <td>11249.84</td>\n",
       "      <td>11228.025714</td>\n",
       "      <td>60.325140</td>\n",
       "      <td>34.091808</td>\n",
       "      <td>86.710837</td>\n",
       "      <td>11237.58</td>\n",
       "    </tr>\n",
       "    <tr>\n",
       "      <th>16</th>\n",
       "      <td>11237.58</td>\n",
       "      <td>11232.012857</td>\n",
       "      <td>56.984705</td>\n",
       "      <td>34.481679</td>\n",
       "      <td>87.528998</td>\n",
       "      <td>11215.74</td>\n",
       "    </tr>\n",
       "    <tr>\n",
       "      <th>17</th>\n",
       "      <td>11215.74</td>\n",
       "      <td>11233.752857</td>\n",
       "      <td>51.512479</td>\n",
       "      <td>34.400130</td>\n",
       "      <td>87.807011</td>\n",
       "      <td>11221.58</td>\n",
       "    </tr>\n",
       "    <tr>\n",
       "      <th>18</th>\n",
       "      <td>11221.58</td>\n",
       "      <td>11234.178571</td>\n",
       "      <td>52.817248</td>\n",
       "      <td>33.721549</td>\n",
       "      <td>84.065998</td>\n",
       "      <td>11190.50</td>\n",
       "    </tr>\n",
       "    <tr>\n",
       "      <th>19</th>\n",
       "      <td>11190.50</td>\n",
       "      <td>11231.812857</td>\n",
       "      <td>45.759896</td>\n",
       "      <td>34.300010</td>\n",
       "      <td>75.293024</td>\n",
       "      <td>11204.99</td>\n",
       "    </tr>\n",
       "    <tr>\n",
       "      <th>20</th>\n",
       "      <td>11204.99</td>\n",
       "      <td>11229.830714</td>\n",
       "      <td>49.169931</td>\n",
       "      <td>33.886438</td>\n",
       "      <td>64.289738</td>\n",
       "      <td>11251.35</td>\n",
       "    </tr>\n",
       "    <tr>\n",
       "      <th>21</th>\n",
       "      <td>11251.35</td>\n",
       "      <td>11231.812857</td>\n",
       "      <td>58.220249</td>\n",
       "      <td>35.156692</td>\n",
       "      <td>55.542011</td>\n",
       "      <td>11237.30</td>\n",
       "    </tr>\n",
       "    <tr>\n",
       "      <th>22</th>\n",
       "      <td>11237.30</td>\n",
       "      <td>11232.809286</td>\n",
       "      <td>55.022801</td>\n",
       "      <td>34.146214</td>\n",
       "      <td>48.687759</td>\n",
       "      <td>11204.92</td>\n",
       "    </tr>\n",
       "    <tr>\n",
       "      <th>23</th>\n",
       "      <td>11204.92</td>\n",
       "      <td>11231.750714</td>\n",
       "      <td>48.422527</td>\n",
       "      <td>34.194342</td>\n",
       "      <td>44.918750</td>\n",
       "      <td>11205.21</td>\n",
       "    </tr>\n",
       "    <tr>\n",
       "      <th>24</th>\n",
       "      <td>11205.21</td>\n",
       "      <td>11230.778571</td>\n",
       "      <td>48.482132</td>\n",
       "      <td>33.894032</td>\n",
       "      <td>39.092301</td>\n",
       "      <td>11204.36</td>\n",
       "    </tr>\n",
       "  </tbody>\n",
       "</table>\n",
       "</div>"
      ],
      "text/plain": [
       "       Close        SMA_14     RSI_14    ATRr_14   STDEV_30  prediction\n",
       "15  11249.84  11228.025714  60.325140  34.091808  86.710837    11237.58\n",
       "16  11237.58  11232.012857  56.984705  34.481679  87.528998    11215.74\n",
       "17  11215.74  11233.752857  51.512479  34.400130  87.807011    11221.58\n",
       "18  11221.58  11234.178571  52.817248  33.721549  84.065998    11190.50\n",
       "19  11190.50  11231.812857  45.759896  34.300010  75.293024    11204.99\n",
       "20  11204.99  11229.830714  49.169931  33.886438  64.289738    11251.35\n",
       "21  11251.35  11231.812857  58.220249  35.156692  55.542011    11237.30\n",
       "22  11237.30  11232.809286  55.022801  34.146214  48.687759    11204.92\n",
       "23  11204.92  11231.750714  48.422527  34.194342  44.918750    11205.21\n",
       "24  11205.21  11230.778571  48.482132  33.894032  39.092301    11204.36"
      ]
     },
     "execution_count": 5,
     "metadata": {},
     "output_type": "execute_result"
    }
   ],
   "source": [
    "try:\n",
    "    df = pd.read_csv(\"resources/test.csv\")\n",
    "except FileNotFoundError:\n",
    "    print(colored('Creating missing file.', 'red'))\n",
    "    get_data()\n",
    "    df = pd.read_csv(\"resources/test.csv\")\n",
    "df = df.iloc[48680:, :]\n",
    "df.reset_index(inplace=True)\n",
    "df = df[[\"Close\", \"SMA_14\",\t\"RSI_14\", \"ATRr_14\", \"STDEV_30\", \"prediction\"]]\n",
    "print(df.shape)\n",
    "df[(CANDLES_HISTORY - 5):(CANDLES_HISTORY + 5)]"
   ]
  },
  {
   "cell_type": "code",
   "execution_count": 6,
   "metadata": {},
   "outputs": [
    {
     "name": "stdout",
     "output_type": "stream",
     "text": [
      "\u001b[32mLoaded storaged data.\u001b[0m\n"
     ]
    }
   ],
   "source": [
    "try:\n",
    "    X = np.load('resources/parameters/X.npy')\n",
    "    Y = np.load('resources/parameters/Y.npy')\n",
    "    scaler = joblib.load(\"resources/parameters/scaler.save\")\n",
    "    print(colored('Loaded storaged data.', 'green'))\n",
    "except FileNotFoundError:\n",
    "    print(colored('Setting up parameters.', 'yellow'))\n",
    "    scaler = MinMaxScaler(feature_range=(0, 1))\n",
    "    scaled_data = scaler.fit_transform(df.values)\n",
    "\n",
    "    if not os.path.exists(\"resources/parameters\"):\n",
    "        os.makedirs(\"resources/parameters\")\n",
    "\n",
    "    joblib.dump(scaler, \"resources/parameters/scaler.save\")\n",
    "    X = get_dataset(scaled_data)\n",
    "    Y = np.array(scaled_data[CANDLES_HISTORY:len(scaled_data), -1])\n",
    "    np.save(\"resources/parameters/X.npy\", X)\n",
    "    np.save(\"resources/parameters/Y.npy\", Y)\n",
    "    print(colored('Parameters saved succesfully.', 'green'))\n"
   ]
  },
  {
   "cell_type": "code",
   "execution_count": 7,
   "metadata": {},
   "outputs": [
    {
     "name": "stdout",
     "output_type": "stream",
     "text": [
      "[11204.99       11229.83071429    49.16993079    33.88643795\n",
      "    64.28973762 11251.35      ]\n",
      "[11204.99       11229.83071429    49.16993079    33.88643795\n",
      "    64.28973762 11251.35      ]\n"
     ]
    },
    {
     "data": {
      "text/plain": [
       "True"
      ]
     },
     "execution_count": 7,
     "metadata": {},
     "output_type": "execute_result"
    }
   ],
   "source": [
    "check_split_df = pd.DataFrame(X[CANDLES_HISTORY])\n",
    "check_split_df[\"5\"] = Y[0:CANDLES_HISTORY]\n",
    "check_split_df = scaler.inverse_transform(check_split_df.values)\n",
    "check_split_df = pd.DataFrame(check_split_df)\n",
    "print(check_split_df.loc[0].values)\n",
    "print(df.loc[CANDLES_HISTORY].values)\n",
    "\n",
    "all(check_split_df.loc[0].values.round() == df.loc[CANDLES_HISTORY].values.round())\n"
   ]
  },
  {
   "cell_type": "code",
   "execution_count": 8,
   "metadata": {},
   "outputs": [
    {
     "name": "stdout",
     "output_type": "stream",
     "text": [
      "\u001b[33mX shape: (21550, 20, 5)\u001b[0m\n",
      "\u001b[33mY shape: (21550,)\u001b[0m\n",
      "\u001b[34mX_train shape: (10991, 20, 5)\u001b[0m\n",
      "\u001b[34mY_train shape: (10991,)\u001b[0m\n",
      "\u001b[31mX_test shape: (10558, 20, 5)\u001b[0m\n",
      "\u001b[31mY_test shape: (10558,)\u001b[0m\n",
      "\u001b[31mShrink: 10991\u001b[0m\n",
      "----------\n",
      "test + train: \u001b[32m21549\u001b[0m\n"
     ]
    }
   ],
   "source": [
    "print(colored(f'X shape: {X.shape}', 'yellow'))\n",
    "print(colored(f'Y shape: {Y.shape}', 'yellow'))\n",
    "\n",
    "training_data_len = math.ceil(len(Y) * .51)\n",
    "x_train = X[:training_data_len]\n",
    "y_train = Y[:training_data_len]\n",
    "x_train = np.array(x_train)\n",
    "y_train = np.array(y_train)\n",
    "\n",
    "print(colored(f'X_train shape: {x_train.shape}', 'blue'))\n",
    "print(colored(f'Y_train shape: {y_train.shape}', 'blue'))\n",
    "\n",
    "divition = training_data_len # + (len(Y[training_data_len:]) / 5)\n",
    "shrink = math.ceil(divition)\n",
    "x_test = X[shrink:-1]\n",
    "y_test = Y[shrink:-1]\n",
    "\n",
    "zipped = list(zip(x_test, y_test))\n",
    "random.shuffle(zipped)\n",
    "x_test, y_test = zip(*zipped)\n",
    "\n",
    "x_test = np.array(x_test)\n",
    "y_test = np.array(y_test)\n",
    "\n",
    "print(colored(f'X_test shape: {x_test.shape}', 'red'))\n",
    "print(colored(f'Y_test shape: {y_test.shape}', 'red'))\n",
    "print(colored(f'Shrink: {shrink}', 'red'))\n",
    "\n",
    "print(\"-\"*10)\n",
    "print('test + train:', colored(\n",
    "    (y_test.shape[0] + (shrink - y_train.shape[0])) + y_train.shape[0],\n",
    "    'green' if (\n",
    "        (\n",
    "            y_test.shape[0] + (shrink - y_train.shape[0])\n",
    "            + y_train.shape[0]\n",
    "        ) == (Y.shape[0] - 1)\n",
    "    ) else 'red'\n",
    "))\n"
   ]
  },
  {
   "cell_type": "code",
   "execution_count": 9,
   "metadata": {},
   "outputs": [
    {
     "name": "stderr",
     "output_type": "stream",
     "text": [
      "2022-07-30 09:05:39.033698: W tensorflow/stream_executor/platform/default/dso_loader.cc:64] Could not load dynamic library 'libcuda.so.1'; dlerror: libcuda.so.1: cannot open shared object file: No such file or directory\n",
      "2022-07-30 09:05:39.033743: W tensorflow/stream_executor/cuda/cuda_driver.cc:269] failed call to cuInit: UNKNOWN ERROR (303)\n",
      "2022-07-30 09:05:39.033772: I tensorflow/stream_executor/cuda/cuda_diagnostics.cc:156] kernel driver does not appear to be running on this host (ubuntu-VirtualBox): /proc/driver/nvidia/version does not exist\n",
      "2022-07-30 09:05:39.044325: I tensorflow/core/platform/cpu_feature_guard.cc:193] This TensorFlow binary is optimized with oneAPI Deep Neural Network Library (oneDNN) to use the following CPU instructions in performance-critical operations:  AVX2\n",
      "To enable them in other operations, rebuild TensorFlow with the appropriate compiler flags.\n"
     ]
    },
    {
     "name": "stdout",
     "output_type": "stream",
     "text": [
      "\u001b[32mModel loaded successfully\u001b[0m\n"
     ]
    }
   ],
   "source": [
    "try:\n",
    "    model = load_model('resources/model/my_model_sequential.h5')\n",
    "    print(colored('Model loaded successfully', 'green'))\n",
    "except IOError:\n",
    "    if not os.path.exists(\"resources/model\"):\n",
    "        os.makedirs(\"resources/model\")\n",
    "    print(colored('Training...', 'yellow'))\n",
    "    model = create_model(X.shape[1], X.shape[-1])\n",
    "    es = EarlyStopping(monitor='val_loss', mode='min', verbose=1, patience=100)\n",
    "    checkpoint = ModelCheckpoint(\n",
    "        'resources/model/best_model_checkpoint.h5',\n",
    "        monitor='val_loss',\n",
    "        mode='min',\n",
    "        verbose=1,\n",
    "        save_best_only=True\n",
    "    )\n",
    "    log_dir = \"logs/fit\"\n",
    "    tensorboard_callback = tf.keras.callbacks.TensorBoard(log_dir=log_dir, histogram_freq=1)\n",
    "    history = model.fit(\n",
    "        x_train, y_train, batch_size=128, epochs=1000,\n",
    "        validation_data=(x_test, y_test),\n",
    "        callbacks=[checkpoint, tensorboard_callback, es]\n",
    "    )\n",
    "\n",
    "    model.save('resources/model/my_model_sequential.h5')\n",
    "    hist_df = pd.DataFrame(history.history)\n",
    "    with open('resources/model/history_sequential.csv', mode='w') as f:\n",
    "        hist_df.to_csv(f)\n"
   ]
  },
  {
   "cell_type": "code",
   "execution_count": 10,
   "metadata": {},
   "outputs": [
    {
     "data": {
      "image/png": "[encoded data removed]",
      "text/plain": [
       "<Figure size 432x288 with 1 Axes>"
      ]
     },
     "metadata": {
      "needs_background": "light"
     },
     "output_type": "display_data"
    }
   ],
   "source": [
    "history = pd.read_csv(\"resources/model/history_sequential.csv\")\n",
    "plt.plot(history['loss'])\n",
    "plt.plot(history['val_loss'])\n",
    "plt.title('model loss')\n",
    "plt.ylabel('loss')\n",
    "plt.xlabel('epoch')\n",
    "plt.legend(['train', 'val'], loc='upper left')\n",
    "plt.show()"
   ]
  },
  {
   "cell_type": "code",
   "execution_count": 11,
   "metadata": {},
   "outputs": [
    {
     "data": {
      "text/plain": [
       "3.1489973480347544e-05"
      ]
     },
     "execution_count": 11,
     "metadata": {},
     "output_type": "execute_result"
    }
   ],
   "source": [
    "train_acc = model.evaluate(x_train, y_train, verbose=0)\n",
    "train_acc"
   ]
  },
  {
   "cell_type": "code",
   "execution_count": 12,
   "metadata": {},
   "outputs": [
    {
     "name": "stdout",
     "output_type": "stream",
     "text": [
      "14040.959999999997\n",
      "1/1 [==============================] - 2s 2s/step\n",
      "13961.721725596784\n"
     ]
    }
   ],
   "source": [
    "index = 8\n",
    "sample = np.array([x_test[index]])\n",
    "\n",
    "y_sample = scaler.inverse_transform([[y_test[index]] * 5 + [y_test[index]]])\n",
    "print(y_sample[0][-1])\n",
    "prediction = model.predict(sample)[0][0]\n",
    "data = scaler.inverse_transform([[prediction] * 5 + [prediction]])\n",
    "print(data[0][-1])\n",
    "# print(\"train: \", mean_squared_error(y_train, prediction))\n"
   ]
  }
 ],
 "metadata": {
  "kernelspec": {
   "display_name": "Python 3.8.10 ('env': venv)",
   "language": "python",
   "name": "python3"
  },
  "language_info": {
   "codemirror_mode": {
    "name": "ipython",
    "version": 3
   },
   "file_extension": ".py",
   "mimetype": "text/x-python",
   "name": "python",
   "nbconvert_exporter": "python",
   "pygments_lexer": "ipython3",
   "version": "3.8.10"
  },
  "orig_nbformat": 4,
  "vscode": {
   "interpreter": {
    "hash": "dae9e42f8dbae331ab4071b17bf18fe65d81ba417c94f4ed1528b325f1741587"
   }
  }
 },
 "nbformat": 4,
 "nbformat_minor": 2
}
