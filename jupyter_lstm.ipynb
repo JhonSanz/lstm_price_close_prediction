{
 "cells": [
  {
   "cell_type": "code",
   "execution_count": 162,
   "metadata": {},
   "outputs": [],
   "source": [
    "import os\n",
    "import math\n",
    "import datetime\n",
    "from termcolor import colored\n",
    "import pandas_datareader as web\n",
    "import numpy as np\n",
    "import pandas as pd\n",
    "from sklearn.preprocessing import MinMaxScaler\n",
    "import joblib\n",
    "import tensorflow as tf\n",
    "from keras.models import Sequential\n",
    "from keras.layers import Dense, LSTM, Dropout\n",
    "from keras.models import load_model\n",
    "from keras.callbacks import EarlyStopping, ModelCheckpoint\n",
    "import matplotlib.pyplot as plt\n",
    "from prepare_data import get_data\n",
    "from sklearn.model_selection import train_test_split"
   ]
  },
  {
   "cell_type": "code",
   "execution_count": 163,
   "metadata": {},
   "outputs": [],
   "source": [
    "CANDLES_HISTORY = 20"
   ]
  },
  {
   "cell_type": "code",
   "execution_count": 164,
   "metadata": {},
   "outputs": [],
   "source": [
    "def get_dataset(train_data):\n",
    "    x_train = []\n",
    "    for i in range(CANDLES_HISTORY, len(train_data)):\n",
    "        x_train.append(train_data[i-CANDLES_HISTORY:i, :-1])\n",
    "    return np.array(x_train)"
   ]
  },
  {
   "cell_type": "code",
   "execution_count": 165,
   "metadata": {},
   "outputs": [],
   "source": [
    "def create_model(shape_examples, shape_features):\n",
    "    print(colored('Generating LSTM model.', 'yellow'))\n",
    "    print(colored(f'Shape {shape_examples}x{shape_features}', 'cyan'))\n",
    "\n",
    "    model = Sequential()\n",
    "    model.add(LSTM(\n",
    "        units=50,\n",
    "        return_sequences=True,\n",
    "        input_shape=(shape_examples, shape_features)\n",
    "    ))\n",
    "    model.add(Dropout(0.2))\n",
    "    model.add(LSTM(units=50, return_sequences=True))\n",
    "    model.add(Dropout(0.25))\n",
    "    model.add(LSTM(units=50))\n",
    "    model.add(Dropout(0.25))\n",
    "    model.add(Dense(units=1))\n",
    "    model.compile(optimizer='adam', loss='mean_squared_error')\n",
    "    return model\n"
   ]
  },
  {
   "cell_type": "code",
   "execution_count": 166,
   "metadata": {},
   "outputs": [
    {
     "name": "stdout",
     "output_type": "stream",
     "text": [
      "(21570, 6)\n"
     ]
    },
    {
     "data": {
      "text/html": [
       "<div>\n",
       "<style scoped>\n",
       "    .dataframe tbody tr th:only-of-type {\n",
       "        vertical-align: middle;\n",
       "    }\n",
       "\n",
       "    .dataframe tbody tr th {\n",
       "        vertical-align: top;\n",
       "    }\n",
       "\n",
       "    .dataframe thead th {\n",
       "        text-align: right;\n",
       "    }\n",
       "</style>\n",
       "<table border=\"1\" class=\"dataframe\">\n",
       "  <thead>\n",
       "    <tr style=\"text-align: right;\">\n",
       "      <th></th>\n",
       "      <th>Close</th>\n",
       "      <th>SMA_14</th>\n",
       "      <th>RSI_14</th>\n",
       "      <th>ATRr_14</th>\n",
       "      <th>STDEV_30</th>\n",
       "      <th>prediction</th>\n",
       "    </tr>\n",
       "  </thead>\n",
       "  <tbody>\n",
       "    <tr>\n",
       "      <th>15</th>\n",
       "      <td>11249.84</td>\n",
       "      <td>11228.025714</td>\n",
       "      <td>60.325140</td>\n",
       "      <td>34.091808</td>\n",
       "      <td>86.710837</td>\n",
       "      <td>11237.58</td>\n",
       "    </tr>\n",
       "    <tr>\n",
       "      <th>16</th>\n",
       "      <td>11237.58</td>\n",
       "      <td>11232.012857</td>\n",
       "      <td>56.984705</td>\n",
       "      <td>34.481679</td>\n",
       "      <td>87.528998</td>\n",
       "      <td>11215.74</td>\n",
       "    </tr>\n",
       "    <tr>\n",
       "      <th>17</th>\n",
       "      <td>11215.74</td>\n",
       "      <td>11233.752857</td>\n",
       "      <td>51.512479</td>\n",
       "      <td>34.400130</td>\n",
       "      <td>87.807011</td>\n",
       "      <td>11221.58</td>\n",
       "    </tr>\n",
       "    <tr>\n",
       "      <th>18</th>\n",
       "      <td>11221.58</td>\n",
       "      <td>11234.178571</td>\n",
       "      <td>52.817248</td>\n",
       "      <td>33.721549</td>\n",
       "      <td>84.065998</td>\n",
       "      <td>11190.50</td>\n",
       "    </tr>\n",
       "    <tr>\n",
       "      <th>19</th>\n",
       "      <td>11190.50</td>\n",
       "      <td>11231.812857</td>\n",
       "      <td>45.759896</td>\n",
       "      <td>34.300010</td>\n",
       "      <td>75.293024</td>\n",
       "      <td>11204.99</td>\n",
       "    </tr>\n",
       "    <tr>\n",
       "      <th>20</th>\n",
       "      <td>11204.99</td>\n",
       "      <td>11229.830714</td>\n",
       "      <td>49.169931</td>\n",
       "      <td>33.886438</td>\n",
       "      <td>64.289738</td>\n",
       "      <td>11251.35</td>\n",
       "    </tr>\n",
       "    <tr>\n",
       "      <th>21</th>\n",
       "      <td>11251.35</td>\n",
       "      <td>11231.812857</td>\n",
       "      <td>58.220249</td>\n",
       "      <td>35.156692</td>\n",
       "      <td>55.542011</td>\n",
       "      <td>11237.30</td>\n",
       "    </tr>\n",
       "    <tr>\n",
       "      <th>22</th>\n",
       "      <td>11237.30</td>\n",
       "      <td>11232.809286</td>\n",
       "      <td>55.022801</td>\n",
       "      <td>34.146214</td>\n",
       "      <td>48.687759</td>\n",
       "      <td>11204.92</td>\n",
       "    </tr>\n",
       "    <tr>\n",
       "      <th>23</th>\n",
       "      <td>11204.92</td>\n",
       "      <td>11231.750714</td>\n",
       "      <td>48.422527</td>\n",
       "      <td>34.194342</td>\n",
       "      <td>44.918750</td>\n",
       "      <td>11205.21</td>\n",
       "    </tr>\n",
       "    <tr>\n",
       "      <th>24</th>\n",
       "      <td>11205.21</td>\n",
       "      <td>11230.778571</td>\n",
       "      <td>48.482132</td>\n",
       "      <td>33.894032</td>\n",
       "      <td>39.092301</td>\n",
       "      <td>11204.36</td>\n",
       "    </tr>\n",
       "  </tbody>\n",
       "</table>\n",
       "</div>"
      ],
      "text/plain": [
       "       Close        SMA_14     RSI_14    ATRr_14   STDEV_30  prediction\n",
       "15  11249.84  11228.025714  60.325140  34.091808  86.710837    11237.58\n",
       "16  11237.58  11232.012857  56.984705  34.481679  87.528998    11215.74\n",
       "17  11215.74  11233.752857  51.512479  34.400130  87.807011    11221.58\n",
       "18  11221.58  11234.178571  52.817248  33.721549  84.065998    11190.50\n",
       "19  11190.50  11231.812857  45.759896  34.300010  75.293024    11204.99\n",
       "20  11204.99  11229.830714  49.169931  33.886438  64.289738    11251.35\n",
       "21  11251.35  11231.812857  58.220249  35.156692  55.542011    11237.30\n",
       "22  11237.30  11232.809286  55.022801  34.146214  48.687759    11204.92\n",
       "23  11204.92  11231.750714  48.422527  34.194342  44.918750    11205.21\n",
       "24  11205.21  11230.778571  48.482132  33.894032  39.092301    11204.36"
      ]
     },
     "execution_count": 166,
     "metadata": {},
     "output_type": "execute_result"
    }
   ],
   "source": [
    "try:\n",
    "    df = pd.read_csv(\"resources/test.csv\")\n",
    "except FileNotFoundError:\n",
    "    print(colored('Creating missing file.', 'red'))\n",
    "    get_data()\n",
    "    df = pd.read_csv(\"resources/test.csv\")\n",
    "df = df.iloc[48680:, :]\n",
    "df.reset_index(inplace=True)\n",
    "df = df[[\"Close\", \"SMA_14\",\t\"RSI_14\", \"ATRr_14\", \"STDEV_30\", \"prediction\"]]\n",
    "print(df.shape)\n",
    "df[(CANDLES_HISTORY - 5):(CANDLES_HISTORY + 5)]"
   ]
  },
  {
   "cell_type": "code",
   "execution_count": 167,
   "metadata": {},
   "outputs": [
    {
     "name": "stdout",
     "output_type": "stream",
     "text": [
      "\u001b[33mSetting up parameters.\u001b[0m\n",
      "\u001b[32mParameters saved succesfully.\u001b[0m\n"
     ]
    }
   ],
   "source": [
    "try:\n",
    "    X = np.load('resources/parameters/X.npy')\n",
    "    Y = np.load('resources/parameters/Y.npy')\n",
    "    scaler = joblib.load(\"resources/parameters/scaler.save\")\n",
    "    print(colored('Loaded storaged data.', 'green'))\n",
    "except FileNotFoundError:\n",
    "    print(colored('Setting up parameters.', 'yellow'))\n",
    "    scaler = MinMaxScaler(feature_range=(0, 1))\n",
    "    scaled_data = scaler.fit_transform(df.values)\n",
    "\n",
    "    if not os.path.exists(\"resources/parameters\"):\n",
    "        os.makedirs(\"resources/parameters\")\n",
    "\n",
    "    joblib.dump(scaler, \"resources/parameters/scaler.save\")\n",
    "    X = get_dataset(scaled_data)\n",
    "    Y = np.array(scaled_data[CANDLES_HISTORY:len(scaled_data), -1])\n",
    "    np.save(\"resources/parameters/X.npy\", X)\n",
    "    np.save(\"resources/parameters/Y.npy\", Y)\n",
    "    print(colored('Parameters saved succesfully.', 'green'))\n"
   ]
  },
  {
   "cell_type": "code",
   "execution_count": 168,
   "metadata": {},
   "outputs": [
    {
     "name": "stdout",
     "output_type": "stream",
     "text": [
      "[11204.99       11229.83071429    49.16993079    33.88643795\n",
      "    64.28973762 11251.35      ]\n",
      "[11204.99       11229.83071429    49.16993079    33.88643795\n",
      "    64.28973762 11251.35      ]\n"
     ]
    },
    {
     "data": {
      "text/plain": [
       "array([ True,  True,  True,  True,  True,  True])"
      ]
     },
     "execution_count": 168,
     "metadata": {},
     "output_type": "execute_result"
    }
   ],
   "source": [
    "check_split_df = pd.DataFrame(X[CANDLES_HISTORY])\n",
    "check_split_df[\"5\"] = Y[0:CANDLES_HISTORY]\n",
    "check_split_df = scaler.inverse_transform(check_split_df.values)\n",
    "check_split_df = pd.DataFrame(check_split_df)\n",
    "print(check_split_df.loc[0].values)\n",
    "print(df.loc[CANDLES_HISTORY].values)\n",
    "\n",
    "check_split_df.loc[0].values.round() == df.loc[CANDLES_HISTORY].values.round()\n"
   ]
  },
  {
   "cell_type": "code",
   "execution_count": 169,
   "metadata": {},
   "outputs": [
    {
     "name": "stdout",
     "output_type": "stream",
     "text": [
      "\u001b[33mX shape: (21550, 20, 5)\u001b[0m\n",
      "\u001b[33mY shape: (21550,)\u001b[0m\n",
      "\u001b[34mX_train shape: (17240, 20, 5)\u001b[0m\n",
      "\u001b[34mY_train shape: (17240,)\u001b[0m\n",
      "\u001b[31mX_test shape: (4309, 20, 5)\u001b[0m\n",
      "\u001b[31mY_test shape: (4309,)\u001b[0m\n",
      "----------\n",
      "test + train: \u001b[32m21549\u001b[0m\n"
     ]
    }
   ],
   "source": [
    "print(colored(f'X shape: {X.shape}', 'yellow'))\n",
    "print(colored(f'Y shape: {Y.shape}', 'yellow'))\n",
    "\n",
    "training_data_len = math.ceil(len(Y) * .8)\n",
    "x_train = X[:training_data_len]\n",
    "y_train = Y[:training_data_len]\n",
    "x_train = np.array(x_train)\n",
    "y_train = np.array(y_train)\n",
    "\n",
    "print(colored(f'X_train shape: {x_train.shape}', 'blue'))\n",
    "print(colored(f'Y_train shape: {y_train.shape}', 'blue'))\n",
    "\n",
    "x_test = X[training_data_len:-1]\n",
    "y_test = Y[training_data_len:-1]\n",
    "x_test = np.array(x_test)\n",
    "y_test = np.array(y_test)\n",
    "\n",
    "print(colored(f'X_test shape: {x_test.shape}', 'red'))\n",
    "print(colored(f'Y_test shape: {y_test.shape}', 'red'))\n",
    "\n",
    "print(\"-\"*10)\n",
    "print('test + train:', colored(\n",
    "    y_test.shape[0] + y_train.shape[0],\n",
    "    'green' if y_test.shape[0] + y_train.shape[0] == (Y.shape[0] - 1) else 'red'\n",
    "))\n"
   ]
  },
  {
   "cell_type": "code",
   "execution_count": 170,
   "metadata": {},
   "outputs": [
    {
     "name": "stdout",
     "output_type": "stream",
     "text": [
      "\u001b[33mTraining...\u001b[0m\n",
      "\u001b[33mGenerating LSTM model.\u001b[0m\n",
      "\u001b[36mShape 20x5\u001b[0m\n",
      "Epoch 1/70\n",
      "135/135 [==============================] - ETA: 0s - loss: 0.0133\n",
      "Epoch 1: val_loss improved from inf to 0.00043, saving model to resources/model/best_model_checkpoint.h5\n",
      "135/135 [==============================] - 26s 116ms/step - loss: 0.0133 - val_loss: 4.3105e-04\n",
      "Epoch 2/70\n",
      "135/135 [==============================] - ETA: 0s - loss: 0.0036\n",
      "Epoch 2: val_loss improved from 0.00043 to 0.00034, saving model to resources/model/best_model_checkpoint.h5\n",
      "135/135 [==============================] - 14s 107ms/step - loss: 0.0036 - val_loss: 3.3505e-04\n",
      "Epoch 3/70\n",
      "135/135 [==============================] - ETA: 0s - loss: 0.0031\n",
      "Epoch 3: val_loss improved from 0.00034 to 0.00029, saving model to resources/model/best_model_checkpoint.h5\n",
      "135/135 [==============================] - 15s 108ms/step - loss: 0.0031 - val_loss: 2.9234e-04\n",
      "Epoch 4/70\n",
      "135/135 [==============================] - ETA: 0s - loss: 0.0028\n",
      "Epoch 4: val_loss did not improve from 0.00029\n",
      "135/135 [==============================] - 15s 108ms/step - loss: 0.0028 - val_loss: 2.9715e-04\n",
      "Epoch 5/70\n",
      "135/135 [==============================] - ETA: 0s - loss: 0.0027\n",
      "Epoch 5: val_loss improved from 0.00029 to 0.00028, saving model to resources/model/best_model_checkpoint.h5\n",
      "135/135 [==============================] - 11s 84ms/step - loss: 0.0027 - val_loss: 2.7635e-04\n",
      "Epoch 6/70\n",
      "135/135 [==============================] - ETA: 0s - loss: 0.0024\n",
      "Epoch 6: val_loss did not improve from 0.00028\n",
      "135/135 [==============================] - 12s 92ms/step - loss: 0.0024 - val_loss: 3.3259e-04\n",
      "Epoch 7/70\n",
      "135/135 [==============================] - ETA: 0s - loss: 0.0023\n",
      "Epoch 7: val_loss did not improve from 0.00028\n",
      "135/135 [==============================] - 11s 84ms/step - loss: 0.0023 - val_loss: 2.8708e-04\n",
      "Epoch 8/70\n",
      "135/135 [==============================] - ETA: 0s - loss: 0.0021\n",
      "Epoch 8: val_loss improved from 0.00028 to 0.00027, saving model to resources/model/best_model_checkpoint.h5\n",
      "135/135 [==============================] - 11s 85ms/step - loss: 0.0021 - val_loss: 2.7435e-04\n",
      "Epoch 9/70\n",
      "135/135 [==============================] - ETA: 0s - loss: 0.0021\n",
      "Epoch 9: val_loss improved from 0.00027 to 0.00024, saving model to resources/model/best_model_checkpoint.h5\n",
      "135/135 [==============================] - 11s 85ms/step - loss: 0.0021 - val_loss: 2.4471e-04\n",
      "Epoch 10/70\n",
      "135/135 [==============================] - ETA: 0s - loss: 0.0018\n",
      "Epoch 10: val_loss did not improve from 0.00024\n",
      "135/135 [==============================] - 11s 83ms/step - loss: 0.0018 - val_loss: 2.5230e-04\n",
      "Epoch 11/70\n",
      "135/135 [==============================] - ETA: 0s - loss: 0.0018\n",
      "Epoch 11: val_loss did not improve from 0.00024\n",
      "135/135 [==============================] - 12s 92ms/step - loss: 0.0018 - val_loss: 3.0156e-04\n",
      "Epoch 12/70\n",
      "135/135 [==============================] - ETA: 0s - loss: 0.0016\n",
      "Epoch 12: val_loss did not improve from 0.00024\n",
      "135/135 [==============================] - 16s 119ms/step - loss: 0.0016 - val_loss: 2.4991e-04\n",
      "Epoch 13/70\n",
      " 64/135 [=============>................] - ETA: 8s - loss: 0.0016"
     ]
    },
    {
     "ename": "KeyboardInterrupt",
     "evalue": "",
     "output_type": "error",
     "traceback": [
      "\u001b[0;31m---------------------------------------------------------------------------\u001b[0m",
      "\u001b[0;31mOSError\u001b[0m                                   Traceback (most recent call last)",
      "\u001b[1;32m/home/ubuntu/Work/price_prediction/us100_prediction/jupyter_lstm.ipynb Celda 9\u001b[0m in \u001b[0;36m<cell line: 1>\u001b[0;34m()\u001b[0m\n\u001b[1;32m      <a href='vscode-notebook-cell:/home/ubuntu/Work/price_prediction/us100_prediction/jupyter_lstm.ipynb#ch0000007?line=0'>1</a>\u001b[0m \u001b[39mtry\u001b[39;00m:\n\u001b[0;32m----> <a href='vscode-notebook-cell:/home/ubuntu/Work/price_prediction/us100_prediction/jupyter_lstm.ipynb#ch0000007?line=1'>2</a>\u001b[0m     model \u001b[39m=\u001b[39m load_model(\u001b[39m'\u001b[39;49m\u001b[39mresources/model/my_model_sequential.h5\u001b[39;49m\u001b[39m'\u001b[39;49m)\n\u001b[1;32m      <a href='vscode-notebook-cell:/home/ubuntu/Work/price_prediction/us100_prediction/jupyter_lstm.ipynb#ch0000007?line=2'>3</a>\u001b[0m     \u001b[39mprint\u001b[39m(colored(\u001b[39m'\u001b[39m\u001b[39mModel loaded successfully\u001b[39m\u001b[39m'\u001b[39m, \u001b[39m'\u001b[39m\u001b[39mgreen\u001b[39m\u001b[39m'\u001b[39m))\n",
      "File \u001b[0;32m~/Work/price_prediction/us100_prediction/env/lib/python3.8/site-packages/keras/utils/traceback_utils.py:67\u001b[0m, in \u001b[0;36mfilter_traceback.<locals>.error_handler\u001b[0;34m(*args, **kwargs)\u001b[0m\n\u001b[1;32m     66\u001b[0m   filtered_tb \u001b[39m=\u001b[39m _process_traceback_frames(e\u001b[39m.\u001b[39m__traceback__)\n\u001b[0;32m---> 67\u001b[0m   \u001b[39mraise\u001b[39;00m e\u001b[39m.\u001b[39mwith_traceback(filtered_tb) \u001b[39mfrom\u001b[39;00m \u001b[39mNone\u001b[39m\n\u001b[1;32m     68\u001b[0m \u001b[39mfinally\u001b[39;00m:\n",
      "File \u001b[0;32m~/Work/price_prediction/us100_prediction/env/lib/python3.8/site-packages/keras/saving/save.py:206\u001b[0m, in \u001b[0;36mload_model\u001b[0;34m(filepath, custom_objects, compile, options)\u001b[0m\n\u001b[1;32m    205\u001b[0m \u001b[39mif\u001b[39;00m \u001b[39mnot\u001b[39;00m tf\u001b[39m.\u001b[39mio\u001b[39m.\u001b[39mgfile\u001b[39m.\u001b[39mexists(filepath_str):\n\u001b[0;32m--> 206\u001b[0m   \u001b[39mraise\u001b[39;00m \u001b[39mIOError\u001b[39;00m(\u001b[39mf\u001b[39m\u001b[39m'\u001b[39m\u001b[39mNo file or directory found at \u001b[39m\u001b[39m{\u001b[39;00mfilepath_str\u001b[39m}\u001b[39;00m\u001b[39m'\u001b[39m)\n\u001b[1;32m    208\u001b[0m \u001b[39mif\u001b[39;00m tf\u001b[39m.\u001b[39mio\u001b[39m.\u001b[39mgfile\u001b[39m.\u001b[39misdir(filepath_str):\n",
      "\u001b[0;31mOSError\u001b[0m: No file or directory found at resources/model/my_model_sequential.h5",
      "\nDuring handling of the above exception, another exception occurred:\n",
      "\u001b[0;31mKeyboardInterrupt\u001b[0m                         Traceback (most recent call last)",
      "\u001b[1;32m/home/ubuntu/Work/price_prediction/us100_prediction/jupyter_lstm.ipynb Celda 9\u001b[0m in \u001b[0;36m<cell line: 1>\u001b[0;34m()\u001b[0m\n\u001b[1;32m     <a href='vscode-notebook-cell:/home/ubuntu/Work/price_prediction/us100_prediction/jupyter_lstm.ipynb#ch0000007?line=16'>17</a>\u001b[0m log_dir \u001b[39m=\u001b[39m \u001b[39m\"\u001b[39m\u001b[39mlogs/fit/\u001b[39m\u001b[39m\"\u001b[39m \u001b[39m+\u001b[39m datetime\u001b[39m.\u001b[39mdatetime\u001b[39m.\u001b[39mnow()\u001b[39m.\u001b[39mstrftime(\u001b[39m\"\u001b[39m\u001b[39m%\u001b[39m\u001b[39mY\u001b[39m\u001b[39m%\u001b[39m\u001b[39mm\u001b[39m\u001b[39m%d\u001b[39;00m\u001b[39m-\u001b[39m\u001b[39m%\u001b[39m\u001b[39mH\u001b[39m\u001b[39m%\u001b[39m\u001b[39mM\u001b[39m\u001b[39m%\u001b[39m\u001b[39mS\u001b[39m\u001b[39m\"\u001b[39m)\n\u001b[1;32m     <a href='vscode-notebook-cell:/home/ubuntu/Work/price_prediction/us100_prediction/jupyter_lstm.ipynb#ch0000007?line=17'>18</a>\u001b[0m tensorboard_callback \u001b[39m=\u001b[39m tf\u001b[39m.\u001b[39mkeras\u001b[39m.\u001b[39mcallbacks\u001b[39m.\u001b[39mTensorBoard(log_dir\u001b[39m=\u001b[39mlog_dir, histogram_freq\u001b[39m=\u001b[39m\u001b[39m1\u001b[39m)\n\u001b[0;32m---> <a href='vscode-notebook-cell:/home/ubuntu/Work/price_prediction/us100_prediction/jupyter_lstm.ipynb#ch0000007?line=18'>19</a>\u001b[0m history \u001b[39m=\u001b[39m model\u001b[39m.\u001b[39;49mfit(\n\u001b[1;32m     <a href='vscode-notebook-cell:/home/ubuntu/Work/price_prediction/us100_prediction/jupyter_lstm.ipynb#ch0000007?line=19'>20</a>\u001b[0m     x_train, y_train, batch_size\u001b[39m=\u001b[39;49m\u001b[39m128\u001b[39;49m, epochs\u001b[39m=\u001b[39;49m\u001b[39m70\u001b[39;49m,\n\u001b[1;32m     <a href='vscode-notebook-cell:/home/ubuntu/Work/price_prediction/us100_prediction/jupyter_lstm.ipynb#ch0000007?line=20'>21</a>\u001b[0m     validation_data\u001b[39m=\u001b[39;49m(x_test, y_test),\n\u001b[1;32m     <a href='vscode-notebook-cell:/home/ubuntu/Work/price_prediction/us100_prediction/jupyter_lstm.ipynb#ch0000007?line=21'>22</a>\u001b[0m     callbacks\u001b[39m=\u001b[39;49m[checkpoint, tensorboard_callback, es]\n\u001b[1;32m     <a href='vscode-notebook-cell:/home/ubuntu/Work/price_prediction/us100_prediction/jupyter_lstm.ipynb#ch0000007?line=22'>23</a>\u001b[0m )\n\u001b[1;32m     <a href='vscode-notebook-cell:/home/ubuntu/Work/price_prediction/us100_prediction/jupyter_lstm.ipynb#ch0000007?line=24'>25</a>\u001b[0m model\u001b[39m.\u001b[39msave(\u001b[39m'\u001b[39m\u001b[39mresources/model/my_model_sequential.h5\u001b[39m\u001b[39m'\u001b[39m)\n\u001b[1;32m     <a href='vscode-notebook-cell:/home/ubuntu/Work/price_prediction/us100_prediction/jupyter_lstm.ipynb#ch0000007?line=25'>26</a>\u001b[0m hist_df \u001b[39m=\u001b[39m pd\u001b[39m.\u001b[39mDataFrame(history\u001b[39m.\u001b[39mhistory)\n",
      "File \u001b[0;32m~/Work/price_prediction/us100_prediction/env/lib/python3.8/site-packages/keras/utils/traceback_utils.py:64\u001b[0m, in \u001b[0;36mfilter_traceback.<locals>.error_handler\u001b[0;34m(*args, **kwargs)\u001b[0m\n\u001b[1;32m     62\u001b[0m filtered_tb \u001b[39m=\u001b[39m \u001b[39mNone\u001b[39;00m\n\u001b[1;32m     63\u001b[0m \u001b[39mtry\u001b[39;00m:\n\u001b[0;32m---> 64\u001b[0m   \u001b[39mreturn\u001b[39;00m fn(\u001b[39m*\u001b[39;49margs, \u001b[39m*\u001b[39;49m\u001b[39m*\u001b[39;49mkwargs)\n\u001b[1;32m     65\u001b[0m \u001b[39mexcept\u001b[39;00m \u001b[39mException\u001b[39;00m \u001b[39mas\u001b[39;00m e:  \u001b[39m# pylint: disable=broad-except\u001b[39;00m\n\u001b[1;32m     66\u001b[0m   filtered_tb \u001b[39m=\u001b[39m _process_traceback_frames(e\u001b[39m.\u001b[39m__traceback__)\n",
      "File \u001b[0;32m~/Work/price_prediction/us100_prediction/env/lib/python3.8/site-packages/keras/engine/training.py:1409\u001b[0m, in \u001b[0;36mModel.fit\u001b[0;34m(self, x, y, batch_size, epochs, verbose, callbacks, validation_split, validation_data, shuffle, class_weight, sample_weight, initial_epoch, steps_per_epoch, validation_steps, validation_batch_size, validation_freq, max_queue_size, workers, use_multiprocessing)\u001b[0m\n\u001b[1;32m   1402\u001b[0m \u001b[39mwith\u001b[39;00m tf\u001b[39m.\u001b[39mprofiler\u001b[39m.\u001b[39mexperimental\u001b[39m.\u001b[39mTrace(\n\u001b[1;32m   1403\u001b[0m     \u001b[39m'\u001b[39m\u001b[39mtrain\u001b[39m\u001b[39m'\u001b[39m,\n\u001b[1;32m   1404\u001b[0m     epoch_num\u001b[39m=\u001b[39mepoch,\n\u001b[1;32m   1405\u001b[0m     step_num\u001b[39m=\u001b[39mstep,\n\u001b[1;32m   1406\u001b[0m     batch_size\u001b[39m=\u001b[39mbatch_size,\n\u001b[1;32m   1407\u001b[0m     _r\u001b[39m=\u001b[39m\u001b[39m1\u001b[39m):\n\u001b[1;32m   1408\u001b[0m   callbacks\u001b[39m.\u001b[39mon_train_batch_begin(step)\n\u001b[0;32m-> 1409\u001b[0m   tmp_logs \u001b[39m=\u001b[39m \u001b[39mself\u001b[39;49m\u001b[39m.\u001b[39;49mtrain_function(iterator)\n\u001b[1;32m   1410\u001b[0m   \u001b[39mif\u001b[39;00m data_handler\u001b[39m.\u001b[39mshould_sync:\n\u001b[1;32m   1411\u001b[0m     context\u001b[39m.\u001b[39masync_wait()\n",
      "File \u001b[0;32m~/Work/price_prediction/us100_prediction/env/lib/python3.8/site-packages/tensorflow/python/util/traceback_utils.py:150\u001b[0m, in \u001b[0;36mfilter_traceback.<locals>.error_handler\u001b[0;34m(*args, **kwargs)\u001b[0m\n\u001b[1;32m    148\u001b[0m filtered_tb \u001b[39m=\u001b[39m \u001b[39mNone\u001b[39;00m\n\u001b[1;32m    149\u001b[0m \u001b[39mtry\u001b[39;00m:\n\u001b[0;32m--> 150\u001b[0m   \u001b[39mreturn\u001b[39;00m fn(\u001b[39m*\u001b[39;49margs, \u001b[39m*\u001b[39;49m\u001b[39m*\u001b[39;49mkwargs)\n\u001b[1;32m    151\u001b[0m \u001b[39mexcept\u001b[39;00m \u001b[39mException\u001b[39;00m \u001b[39mas\u001b[39;00m e:\n\u001b[1;32m    152\u001b[0m   filtered_tb \u001b[39m=\u001b[39m _process_traceback_frames(e\u001b[39m.\u001b[39m__traceback__)\n",
      "File \u001b[0;32m~/Work/price_prediction/us100_prediction/env/lib/python3.8/site-packages/tensorflow/python/eager/def_function.py:915\u001b[0m, in \u001b[0;36mFunction.__call__\u001b[0;34m(self, *args, **kwds)\u001b[0m\n\u001b[1;32m    912\u001b[0m compiler \u001b[39m=\u001b[39m \u001b[39m\"\u001b[39m\u001b[39mxla\u001b[39m\u001b[39m\"\u001b[39m \u001b[39mif\u001b[39;00m \u001b[39mself\u001b[39m\u001b[39m.\u001b[39m_jit_compile \u001b[39melse\u001b[39;00m \u001b[39m\"\u001b[39m\u001b[39mnonXla\u001b[39m\u001b[39m\"\u001b[39m\n\u001b[1;32m    914\u001b[0m \u001b[39mwith\u001b[39;00m OptionalXlaContext(\u001b[39mself\u001b[39m\u001b[39m.\u001b[39m_jit_compile):\n\u001b[0;32m--> 915\u001b[0m   result \u001b[39m=\u001b[39m \u001b[39mself\u001b[39;49m\u001b[39m.\u001b[39;49m_call(\u001b[39m*\u001b[39;49margs, \u001b[39m*\u001b[39;49m\u001b[39m*\u001b[39;49mkwds)\n\u001b[1;32m    917\u001b[0m new_tracing_count \u001b[39m=\u001b[39m \u001b[39mself\u001b[39m\u001b[39m.\u001b[39mexperimental_get_tracing_count()\n\u001b[1;32m    918\u001b[0m without_tracing \u001b[39m=\u001b[39m (tracing_count \u001b[39m==\u001b[39m new_tracing_count)\n",
      "File \u001b[0;32m~/Work/price_prediction/us100_prediction/env/lib/python3.8/site-packages/tensorflow/python/eager/def_function.py:947\u001b[0m, in \u001b[0;36mFunction._call\u001b[0;34m(self, *args, **kwds)\u001b[0m\n\u001b[1;32m    944\u001b[0m   \u001b[39mself\u001b[39m\u001b[39m.\u001b[39m_lock\u001b[39m.\u001b[39mrelease()\n\u001b[1;32m    945\u001b[0m   \u001b[39m# In this case we have created variables on the first call, so we run the\u001b[39;00m\n\u001b[1;32m    946\u001b[0m   \u001b[39m# defunned version which is guaranteed to never create variables.\u001b[39;00m\n\u001b[0;32m--> 947\u001b[0m   \u001b[39mreturn\u001b[39;00m \u001b[39mself\u001b[39;49m\u001b[39m.\u001b[39;49m_stateless_fn(\u001b[39m*\u001b[39;49margs, \u001b[39m*\u001b[39;49m\u001b[39m*\u001b[39;49mkwds)  \u001b[39m# pylint: disable=not-callable\u001b[39;00m\n\u001b[1;32m    948\u001b[0m \u001b[39melif\u001b[39;00m \u001b[39mself\u001b[39m\u001b[39m.\u001b[39m_stateful_fn \u001b[39mis\u001b[39;00m \u001b[39mnot\u001b[39;00m \u001b[39mNone\u001b[39;00m:\n\u001b[1;32m    949\u001b[0m   \u001b[39m# Release the lock early so that multiple threads can perform the call\u001b[39;00m\n\u001b[1;32m    950\u001b[0m   \u001b[39m# in parallel.\u001b[39;00m\n\u001b[1;32m    951\u001b[0m   \u001b[39mself\u001b[39m\u001b[39m.\u001b[39m_lock\u001b[39m.\u001b[39mrelease()\n",
      "File \u001b[0;32m~/Work/price_prediction/us100_prediction/env/lib/python3.8/site-packages/tensorflow/python/eager/function.py:2453\u001b[0m, in \u001b[0;36mFunction.__call__\u001b[0;34m(self, *args, **kwargs)\u001b[0m\n\u001b[1;32m   2450\u001b[0m \u001b[39mwith\u001b[39;00m \u001b[39mself\u001b[39m\u001b[39m.\u001b[39m_lock:\n\u001b[1;32m   2451\u001b[0m   (graph_function,\n\u001b[1;32m   2452\u001b[0m    filtered_flat_args) \u001b[39m=\u001b[39m \u001b[39mself\u001b[39m\u001b[39m.\u001b[39m_maybe_define_function(args, kwargs)\n\u001b[0;32m-> 2453\u001b[0m \u001b[39mreturn\u001b[39;00m graph_function\u001b[39m.\u001b[39;49m_call_flat(\n\u001b[1;32m   2454\u001b[0m     filtered_flat_args, captured_inputs\u001b[39m=\u001b[39;49mgraph_function\u001b[39m.\u001b[39;49mcaptured_inputs)\n",
      "File \u001b[0;32m~/Work/price_prediction/us100_prediction/env/lib/python3.8/site-packages/tensorflow/python/eager/function.py:1860\u001b[0m, in \u001b[0;36mConcreteFunction._call_flat\u001b[0;34m(self, args, captured_inputs, cancellation_manager)\u001b[0m\n\u001b[1;32m   1856\u001b[0m possible_gradient_type \u001b[39m=\u001b[39m gradients_util\u001b[39m.\u001b[39mPossibleTapeGradientTypes(args)\n\u001b[1;32m   1857\u001b[0m \u001b[39mif\u001b[39;00m (possible_gradient_type \u001b[39m==\u001b[39m gradients_util\u001b[39m.\u001b[39mPOSSIBLE_GRADIENT_TYPES_NONE\n\u001b[1;32m   1858\u001b[0m     \u001b[39mand\u001b[39;00m executing_eagerly):\n\u001b[1;32m   1859\u001b[0m   \u001b[39m# No tape is watching; skip to running the function.\u001b[39;00m\n\u001b[0;32m-> 1860\u001b[0m   \u001b[39mreturn\u001b[39;00m \u001b[39mself\u001b[39m\u001b[39m.\u001b[39m_build_call_outputs(\u001b[39mself\u001b[39;49m\u001b[39m.\u001b[39;49m_inference_function\u001b[39m.\u001b[39;49mcall(\n\u001b[1;32m   1861\u001b[0m       ctx, args, cancellation_manager\u001b[39m=\u001b[39;49mcancellation_manager))\n\u001b[1;32m   1862\u001b[0m forward_backward \u001b[39m=\u001b[39m \u001b[39mself\u001b[39m\u001b[39m.\u001b[39m_select_forward_and_backward_functions(\n\u001b[1;32m   1863\u001b[0m     args,\n\u001b[1;32m   1864\u001b[0m     possible_gradient_type,\n\u001b[1;32m   1865\u001b[0m     executing_eagerly)\n\u001b[1;32m   1866\u001b[0m forward_function, args_with_tangents \u001b[39m=\u001b[39m forward_backward\u001b[39m.\u001b[39mforward()\n",
      "File \u001b[0;32m~/Work/price_prediction/us100_prediction/env/lib/python3.8/site-packages/tensorflow/python/eager/function.py:497\u001b[0m, in \u001b[0;36m_EagerDefinedFunction.call\u001b[0;34m(self, ctx, args, cancellation_manager)\u001b[0m\n\u001b[1;32m    495\u001b[0m \u001b[39mwith\u001b[39;00m _InterpolateFunctionError(\u001b[39mself\u001b[39m):\n\u001b[1;32m    496\u001b[0m   \u001b[39mif\u001b[39;00m cancellation_manager \u001b[39mis\u001b[39;00m \u001b[39mNone\u001b[39;00m:\n\u001b[0;32m--> 497\u001b[0m     outputs \u001b[39m=\u001b[39m execute\u001b[39m.\u001b[39;49mexecute(\n\u001b[1;32m    498\u001b[0m         \u001b[39mstr\u001b[39;49m(\u001b[39mself\u001b[39;49m\u001b[39m.\u001b[39;49msignature\u001b[39m.\u001b[39;49mname),\n\u001b[1;32m    499\u001b[0m         num_outputs\u001b[39m=\u001b[39;49m\u001b[39mself\u001b[39;49m\u001b[39m.\u001b[39;49m_num_outputs,\n\u001b[1;32m    500\u001b[0m         inputs\u001b[39m=\u001b[39;49margs,\n\u001b[1;32m    501\u001b[0m         attrs\u001b[39m=\u001b[39;49mattrs,\n\u001b[1;32m    502\u001b[0m         ctx\u001b[39m=\u001b[39;49mctx)\n\u001b[1;32m    503\u001b[0m   \u001b[39melse\u001b[39;00m:\n\u001b[1;32m    504\u001b[0m     outputs \u001b[39m=\u001b[39m execute\u001b[39m.\u001b[39mexecute_with_cancellation(\n\u001b[1;32m    505\u001b[0m         \u001b[39mstr\u001b[39m(\u001b[39mself\u001b[39m\u001b[39m.\u001b[39msignature\u001b[39m.\u001b[39mname),\n\u001b[1;32m    506\u001b[0m         num_outputs\u001b[39m=\u001b[39m\u001b[39mself\u001b[39m\u001b[39m.\u001b[39m_num_outputs,\n\u001b[0;32m   (...)\u001b[0m\n\u001b[1;32m    509\u001b[0m         ctx\u001b[39m=\u001b[39mctx,\n\u001b[1;32m    510\u001b[0m         cancellation_manager\u001b[39m=\u001b[39mcancellation_manager)\n",
      "File \u001b[0;32m~/Work/price_prediction/us100_prediction/env/lib/python3.8/site-packages/tensorflow/python/eager/execute.py:54\u001b[0m, in \u001b[0;36mquick_execute\u001b[0;34m(op_name, num_outputs, inputs, attrs, ctx, name)\u001b[0m\n\u001b[1;32m     52\u001b[0m \u001b[39mtry\u001b[39;00m:\n\u001b[1;32m     53\u001b[0m   ctx\u001b[39m.\u001b[39mensure_initialized()\n\u001b[0;32m---> 54\u001b[0m   tensors \u001b[39m=\u001b[39m pywrap_tfe\u001b[39m.\u001b[39;49mTFE_Py_Execute(ctx\u001b[39m.\u001b[39;49m_handle, device_name, op_name,\n\u001b[1;32m     55\u001b[0m                                       inputs, attrs, num_outputs)\n\u001b[1;32m     56\u001b[0m \u001b[39mexcept\u001b[39;00m core\u001b[39m.\u001b[39m_NotOkStatusException \u001b[39mas\u001b[39;00m e:\n\u001b[1;32m     57\u001b[0m   \u001b[39mif\u001b[39;00m name \u001b[39mis\u001b[39;00m \u001b[39mnot\u001b[39;00m \u001b[39mNone\u001b[39;00m:\n",
      "\u001b[0;31mKeyboardInterrupt\u001b[0m: "
     ]
    }
   ],
   "source": [
    "try:\n",
    "    model = load_model('resources/model/my_model_sequential.h5')\n",
    "    print(colored('Model loaded successfully', 'green'))\n",
    "except IOError:\n",
    "    if not os.path.exists(\"resources/model\"):\n",
    "        os.makedirs(\"resources/model\")\n",
    "    print(colored('Training...', 'yellow'))\n",
    "    model = create_model(X.shape[1], X.shape[-1])\n",
    "    es = EarlyStopping(monitor='val_loss', mode='min', verbose=1, patience=10)\n",
    "    checkpoint = ModelCheckpoint(\n",
    "        'resources/model/best_model_checkpoint.h5',\n",
    "        monitor='val_loss',\n",
    "        mode='min',\n",
    "        verbose=1,\n",
    "        save_best_only=True\n",
    "    )\n",
    "    log_dir = \"logs/fit/\" + datetime.datetime.now().strftime(\"%Y%m%d-%H%M%S\")\n",
    "    tensorboard_callback = tf.keras.callbacks.TensorBoard(log_dir=log_dir, histogram_freq=1)\n",
    "    history = model.fit(\n",
    "        x_train, y_train, batch_size=128, epochs=70,\n",
    "        validation_data=(x_test, y_test),\n",
    "        callbacks=[checkpoint, tensorboard_callback, es]\n",
    "    )\n",
    "\n",
    "    model.save('resources/model/my_model_sequential.h5')\n",
    "    hist_df = pd.DataFrame(history.history)\n",
    "    with open('resources/model/history_sequential.csv', mode='w') as f:\n",
    "        hist_df.to_csv(f)\n"
   ]
  },
  {
   "cell_type": "code",
   "execution_count": null,
   "metadata": {},
   "outputs": [
    {
     "data": {
      "image/png": "[encoded data removed]",
      "text/plain": [
       "<Figure size 432x288 with 1 Axes>"
      ]
     },
     "metadata": {
      "needs_background": "light"
     },
     "output_type": "display_data"
    }
   ],
   "source": [
    "history = pd.read_csv(\"resources/model/history_sequential.csv\")\n",
    "plt.plot(history['loss'])\n",
    "plt.plot(history['val_loss'])\n",
    "plt.title('model loss')\n",
    "plt.ylabel('loss')\n",
    "plt.xlabel('epoch')\n",
    "plt.legend(['train', 'val'], loc='upper left')\n",
    "plt.show()"
   ]
  },
  {
   "cell_type": "code",
   "execution_count": null,
   "metadata": {},
   "outputs": [
    {
     "data": {
      "text/plain": [
       "5.80364721827209e-05"
      ]
     },
     "execution_count": 134,
     "metadata": {},
     "output_type": "execute_result"
    }
   ],
   "source": [
    "train_acc = model.evaluate(x_train, y_train, verbose=0)\n",
    "train_acc"
   ]
  },
  {
   "cell_type": "code",
   "execution_count": null,
   "metadata": {},
   "outputs": [],
   "source": [
    "# index = 2\n",
    "# sample = np.array([x_train[index]])\n",
    "\n",
    "# y_sample = scaler.inverse_transform([[y_train[index]] * 7 + [y_train[index]]])\n",
    "# print(y_sample[0][-1])\n",
    "# prediction = model.predict(sample)[0][0]\n",
    "# data = scaler.inverse_transform([[prediction] * 7 + [prediction]])\n",
    "# print(data[0][-1])\n",
    "# # print(\"train: \", mean_squared_error(y_train, prediction))\n"
   ]
  }
 ],
 "metadata": {
  "kernelspec": {
   "display_name": "Python 3.8.10 ('env': venv)",
   "language": "python",
   "name": "python3"
  },
  "language_info": {
   "codemirror_mode": {
    "name": "ipython",
    "version": 3
   },
   "file_extension": ".py",
   "mimetype": "text/x-python",
   "name": "python",
   "nbconvert_exporter": "python",
   "pygments_lexer": "ipython3",
   "version": "3.8.10"
  },
  "orig_nbformat": 4,
  "vscode": {
   "interpreter": {
    "hash": "dae9e42f8dbae331ab4071b17bf18fe65d81ba417c94f4ed1528b325f1741587"
   }
  }
 },
 "nbformat": 4,
 "nbformat_minor": 2
}
